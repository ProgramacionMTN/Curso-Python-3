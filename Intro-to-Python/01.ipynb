{
 "cells": [
  {
   "cell_type": "markdown",
   "metadata": {},
   "source": [
    "# Comenzando en Python\n",
    "\n",
    "Python can be used like a calculator. Simply type in expressions to get them evaluated.\n",
    "En primer lugar, Python puede ser usado como una calculadora sencilla, simplemente ingresa operaciones y python te calculará los resultados.\n",
    "\n",
    "## Syntaxis Básica de sentencias (lineas) en Python\n",
    "\n",
    "Las reglas básicas para escribir lineas en Python son\n",
    "1. No se pueden poner espacios ni tabs (La tecla con dos flechitas sobre el Shift en el teclado) en los comienzos de las lineas, esto pues la identacion (Espacios o Tabs) juega un rol especial en python para otros tipos de lineas (If, else, while, for etc...).\n",
    "2. Para hacer un comentario en una linea puedes poner un \"#\" seguido del comentario.\n",
    "3. Cada linea se corre hasta el final de la linea (Genius...)\n",
    "   * a excepcion de cuando se usan parentesis o backslashes, a continuación unos ejemplos con lo dicho anteriormente\n",
    "<br>\n",
    "4. Para hacer un comentario de varias lineas puedes usar ''' comentario '''\n",
    "Corre las siguientes celdas de código para ejemplificar las instrucciones anteriores"
   ]
  },
  {
   "cell_type": "code",
   "execution_count": 1,
   "metadata": {},
   "outputs": [
    {
     "data": {
      "text/plain": [
       "10"
      ]
     },
     "execution_count": 1,
     "metadata": {},
     "output_type": "execute_result"
    }
   ],
   "source": [
    "# Sintaxis mas apropiada\n",
    "5 + 5"
   ]
  },
  {
   "cell_type": "code",
   "execution_count": 2,
   "metadata": {},
   "outputs": [
    {
     "ename": "IndentationError",
     "evalue": "unexpected indent (<ipython-input-2-f117c8c80f02>, line 3)",
     "output_type": "error",
     "traceback": [
      "\u001b[1;36m  File \u001b[1;32m\"<ipython-input-2-f117c8c80f02>\"\u001b[1;36m, line \u001b[1;32m3\u001b[0m\n\u001b[1;33m    5 + 5\u001b[0m\n\u001b[1;37m    ^\u001b[0m\n\u001b[1;31mIndentationError\u001b[0m\u001b[1;31m:\u001b[0m unexpected indent\n"
     ]
    }
   ],
   "source": [
    "# Este bloque tiene espacios y/o tabs antes de la linea por lo que no correrá en el programa (Regla 1)\n",
    "# (Notese el error Unexpected Ident que marca que pusiste una identación donde no corresponde)\n",
    "    5 + 5"
   ]
  },
  {
   "cell_type": "code",
   "execution_count": 4,
   "metadata": {},
   "outputs": [],
   "source": [
    "# Esto es un comentario y no correrá en el programa (Regla 2)\n",
    "# 5 + 5"
   ]
  },
  {
   "cell_type": "code",
   "execution_count": 5,
   "metadata": {},
   "outputs": [
    {
     "data": {
      "text/plain": [
       "140"
      ]
     },
     "execution_count": 5,
     "metadata": {},
     "output_type": "execute_result"
    }
   ],
   "source": [
    "# Solo si las lineas son muy largas puedes usar \\ para una mayor legibilidad (Regla 3)\n",
    "5 + 5 + 5 + 5 + 5 + 5 + 5 + 5 + 5+ 5 + 5 + 5 + 5 + 5 + \\\n",
    "    5 + 5 + 5 + 5 + 5 + 5 + 5 + 5 + 5+ 5 + 5 + 5 + 5 + 5"
   ]
  },
  {
   "cell_type": "code",
   "execution_count": 6,
   "metadata": {},
   "outputs": [
    {
     "name": "stdout",
     "output_type": "stream",
     "text": [
      "Hola Mundo!\n"
     ]
    }
   ],
   "source": [
    "\"\"\"\n",
    "Segun la regla 4:\n",
    "Este es un comentario de muchas lineas por lo que\n",
    "no se correra nada de esto en el codigo\n",
    "5 + 5\n",
    "3 + 3\n",
    "\"\"\"\n",
    "print(\"Hola Mundo!\")"
   ]
  },
  {
   "cell_type": "markdown",
   "metadata": {},
   "source": [
    "## 1. Variables y Valores"
   ]
  },
  {
   "cell_type": "markdown",
   "metadata": {},
   "source": [
    "### 1.1 Variables\n",
    "Una palabra o letra que se use para guardar un valor es llamado una variable. En python, las variables pueden ser declaradas y valuadas como se muestra a continuación"
   ]
  },
  {
   "cell_type": "code",
   "execution_count": 7,
   "metadata": {},
   "outputs": [
    {
     "name": "stdout",
     "output_type": "stream",
     "text": [
      "7 Hey\n",
      "3\n",
      "Numero 4 vale: 20\n"
     ]
    }
   ],
   "source": [
    "x = 2          # todo despues de \"#\" es un comentario\n",
    "y = 5\n",
    "numero_3 = 3\n",
    "numero_4 = 20\n",
    "xy = 'Hey'     # Notar que xy no tiene nada que ver con las variables 'x' e 'y'\n",
    "print(x+y, xy) # La función 'print' te permite imprimir variables\n",
    "print(numero_3)\n",
    "print(\"Numero 4 vale:\", numero_4) # Notar que al separar con coma las cosas que quiero imprimir\n",
    "                                  # se le agrega un espacio automáticamente."
   ]
  },
  {
   "cell_type": "markdown",
   "metadata": {},
   "source": [
    "### Tipos de datos\n",
    "Los tipos de datos que vienen con python incluyen **int** (numeros enteros), **float** (Numeros que aceptan decimales), **str** (strings, texto) y **bool** (Booleanos) a continuación se muestran ejemplos de todos ellos."
   ]
  },
  {
   "cell_type": "code",
   "execution_count": 8,
   "metadata": {},
   "outputs": [
    {
     "data": {
      "text/plain": [
       "\"It's another string\""
      ]
     },
     "execution_count": 8,
     "metadata": {},
     "output_type": "execute_result"
    }
   ],
   "source": [
    "2.0           # numero tipo float\n",
    "-1234567890   # numero tipo int\n",
    "True  # Booleano para verdadero\n",
    "False # Booleano para falso\n",
    "'This is a string' # String\n",
    "\"It's another string\""
   ]
  },
  {
   "cell_type": "markdown",
   "metadata": {},
   "source": [
    "Si necesitas escribir una comilla dobe (\"), o otro caracter reservado (que python reconoce como código) en un string puedes usar el caractér backslash **\\**, para escribir un salto de linea puedes escribir **\"\\n\"** dentro del string."
   ]
  },
  {
   "cell_type": "code",
   "execution_count": 9,
   "metadata": {},
   "outputs": [
    {
     "name": "stdout",
     "output_type": "stream",
     "text": [
      "string simple\n",
      "string \"con\" comillas\n",
      "----------------------------------\n",
      "string con salto de linea \n",
      "Texto despúes del salto\n"
     ]
    }
   ],
   "source": [
    "print(\"string simple\")\n",
    "print(\"string \\\"con\\\" comillas\")\n",
    "print(\"----------------------------------\")\n",
    "print(\"string con salto de linea \\n\" + \"Texto despúes del salto\")"
   ]
  },
  {
   "cell_type": "markdown",
   "metadata": {},
   "source": [
    "### Conversion de tipos de datos\n",
    "En python puedes pasar entre un tipo de dato a otro, por ejemplo puedes tener un string que diga \"5\" pero necesitas que dicho string sea un número, para esto usamos los comandos\n",
    "1. int(x) Para convertir a int\n",
    "2. str(x) Para convertir a string\n",
    "3. float(x) Para convertir a float\n",
    "A continuación se muestran unos ejemplos que clarifican lo anterior."
   ]
  },
  {
   "cell_type": "code",
   "execution_count": 10,
   "metadata": {},
   "outputs": [
    {
     "name": "stdout",
     "output_type": "stream",
     "text": [
      "String: 3010\n",
      "Int: 40\n",
      "Float:  40.0\n"
     ]
    }
   ],
   "source": [
    "a = \"30\"\n",
    "b = \"10\"\n",
    "print(\"String:\", a + b) # Como ambos son strings al sumarlos se concatenan\n",
    "c = int(a)\n",
    "d = int(b)\n",
    "print(\"Int:\", c + d) # Ahora ambos datos son ints asi que se sumaran como los numeros normales\n",
    "a = float(a)\n",
    "b = float(b)\n",
    "print(\"Float: \", a + b) # Esta vez se imprime con un punto porque ambos numeros son float (decimales)"
   ]
  },
  {
   "cell_type": "markdown",
   "metadata": {},
   "source": [
    "## Operadores"
   ]
  },
  {
   "cell_type": "markdown",
   "metadata": {},
   "source": [
    "### Operadores Aritméticos"
   ]
  },
  {
   "cell_type": "markdown",
   "metadata": {},
   "source": [
    "| Syntax | Operación |\n",
    "|----|---|\n",
    "| +  | Suma |\n",
    "| -  | Resta |\n",
    "| /  | Division |\n",
    "| //  | Division Entera |\n",
    "| %  | Resto/Módulo/MOD |\n",
    "| *  | Multiplicación |\n",
    "| **  | Potencias |\n",
    "\n",
    "Las operaciones anteriores funcionan como cabe esperar para los numeros **float** y **int**, mientras que para los **str** ponemos unos ejemplos para que veas como se aplican las operaciones a las palabras. <br>\n",
    "*Es recomendado poner un espacio entre los numeros y los operadores para una mejor legibilidad, al igual como se muestra en los ejemplos.*"
   ]
  },
  {
   "cell_type": "code",
   "execution_count": 11,
   "metadata": {},
   "outputs": [
    {
     "data": {
      "text/plain": [
       "3.0"
      ]
     },
     "execution_count": 11,
     "metadata": {},
     "output_type": "execute_result"
    }
   ],
   "source": [
    "1 + 2.0"
   ]
  },
  {
   "cell_type": "code",
   "execution_count": 12,
   "metadata": {},
   "outputs": [
    {
     "data": {
      "text/plain": [
       "2"
      ]
     },
     "execution_count": 12,
     "metadata": {},
     "output_type": "execute_result"
    }
   ],
   "source": [
    "3 - 1"
   ]
  },
  {
   "cell_type": "code",
   "execution_count": 13,
   "metadata": {},
   "outputs": [
    {
     "data": {
      "text/plain": [
       "8"
      ]
     },
     "execution_count": 13,
     "metadata": {},
     "output_type": "execute_result"
    }
   ],
   "source": [
    "2 * 4"
   ]
  },
  {
   "cell_type": "code",
   "execution_count": 14,
   "metadata": {},
   "outputs": [
    {
     "data": {
      "text/plain": [
       "0.75"
      ]
     },
     "execution_count": 14,
     "metadata": {},
     "output_type": "execute_result"
    }
   ],
   "source": [
    "3 / 4"
   ]
  },
  {
   "cell_type": "markdown",
   "metadata": {},
   "source": [
    "In many languages (and older versions of python) 1/2 = 0 (truncated division). In Python 3 this behaviour is captured by a separate operator that rounds down: (ie a // b$=\\lfloor \\frac{a}{b}\\rfloor$)"
   ]
  },
  {
   "cell_type": "code",
   "execution_count": 15,
   "metadata": {},
   "outputs": [
    {
     "data": {
      "text/plain": [
       "3.0"
      ]
     },
     "execution_count": 15,
     "metadata": {},
     "output_type": "execute_result"
    }
   ],
   "source": [
    "13 // 4.0 # El 4 cabe 3 veces en el 13"
   ]
  },
  {
   "cell_type": "code",
   "execution_count": 16,
   "metadata": {},
   "outputs": [
    {
     "data": {
      "text/plain": [
       "5"
      ]
     },
     "execution_count": 16,
     "metadata": {},
     "output_type": "execute_result"
    }
   ],
   "source": [
    "15 % 10 # 15 dividido 10 me da un resto de 5 unidades."
   ]
  },
  {
   "cell_type": "markdown",
   "metadata": {},
   "source": [
    "#### Dato Freak\n",
    "Python permite guardar numeros enteros extremadamente grandes, por lo que no deberías preocuparte por tener un número demasiado grande. Por otro lado los floats no pueden ser taaan grandes, por lo que si vas a tener cantidades grandes enteras es mejor trabajar con enteros"
   ]
  },
  {
   "cell_type": "code",
   "execution_count": 17,
   "metadata": {},
   "outputs": [
    {
     "data": {
      "text/plain": [
       "2617010996188399907017032528972038342491649416953000260240805955827972056685382434497090341496787032585738884786745286700473999847280664191731008874811751310888591786111994678208920175143911761181424495660877950654145066969036252669735483098936884016471326487403792787648506879212630637101259246005701084327338001"
      ]
     },
     "execution_count": 17,
     "metadata": {},
     "output_type": "execute_result"
    }
   ],
   "source": [
    "11**300"
   ]
  },
  {
   "cell_type": "code",
   "execution_count": 18,
   "metadata": {},
   "outputs": [
    {
     "ename": "OverflowError",
     "evalue": "(34, 'Result too large')",
     "output_type": "error",
     "traceback": [
      "\u001b[1;31m---------------------------------------------------------------------------\u001b[0m",
      "\u001b[1;31mOverflowError\u001b[0m                             Traceback (most recent call last)",
      "\u001b[1;32m<ipython-input-18-7aa7af6f6c2b>\u001b[0m in \u001b[0;36m<module>\u001b[1;34m\u001b[0m\n\u001b[1;32m----> 1\u001b[1;33m \u001b[1;36m11.0\u001b[0m \u001b[1;33m**\u001b[0m \u001b[1;36m300\u001b[0m\u001b[1;33m\u001b[0m\u001b[1;33m\u001b[0m\u001b[0m\n\u001b[0m",
      "\u001b[1;31mOverflowError\u001b[0m: (34, 'Result too large')"
     ]
    }
   ],
   "source": [
    "11.0 ** 300"
   ]
  },
  {
   "cell_type": "markdown",
   "metadata": {},
   "source": [
    "### Operando strings\n",
    "Los mismos operadores tienen un significado intuitivo cuando los usamos con palabras, en específico\n",
    "1. `palabra + palabra` concatena dos palabras\n",
    "2. `palabra * n` concatena *n* veces una palabra"
   ]
  },
  {
   "cell_type": "code",
   "execution_count": 68,
   "metadata": {},
   "outputs": [
    {
     "name": "stdout",
     "output_type": "stream",
     "text": [
      "El Pancho Ruiz\n",
      "ManzanaManzanaManzanaManzana\n"
     ]
    }
   ],
   "source": [
    "a = \"El\"\n",
    "b = \" Pancho Ruiz\"\n",
    "print(a + b)\n",
    "c = \"Manzana\"\n",
    "print(c * 4)"
   ]
  },
  {
   "cell_type": "markdown",
   "metadata": {},
   "source": [
    "### Operadores Lógicos"
   ]
  },
  {
   "cell_type": "markdown",
   "metadata": {},
   "source": [
    "| Syntax | Operación |\n",
    "|----| :--- |\n",
    "| == | Igual |\n",
    "| !=  | Distinto |\n",
    "| < | Menor que |\n",
    "| > | Mayor que |\n",
    "| <=  | Menor o igual que |\n",
    "| >=  | Mayor o igual que |\n",
    "\n",
    "Notar la diferencia entre `==` (Prueba si dos variables son iguales) y `=`(Asigna una variable)\n",
    "Note the difference between `==` (equality test) and `=` (assignment)"
   ]
  },
  {
   "cell_type": "code",
   "execution_count": 69,
   "metadata": {},
   "outputs": [
    {
     "data": {
      "text/plain": [
       "True"
      ]
     },
     "execution_count": 69,
     "metadata": {},
     "output_type": "execute_result"
    }
   ],
   "source": [
    "z = 2 # Le asigno el valor 2 a la variable z\n",
    "z == 2 # Comparo si z = 2"
   ]
  },
  {
   "cell_type": "code",
   "execution_count": 70,
   "metadata": {},
   "outputs": [
    {
     "data": {
      "text/plain": [
       "False"
      ]
     },
     "execution_count": 70,
     "metadata": {},
     "output_type": "execute_result"
    }
   ],
   "source": [
    "z > 2"
   ]
  },
  {
   "cell_type": "markdown",
   "metadata": {},
   "source": [
    "Comparisons can also be chained in the mathematically obvious way. The following will work as expected in Python (but not in other languages like C/C++):\n",
    "En python a diferencia de otros lenguajes puedes juntar algunos operadores lógicos como se hace en matemáticas (Esto no es cierto para todos los lenguajes como C++ etc...)."
   ]
  },
  {
   "cell_type": "code",
   "execution_count": 71,
   "metadata": {},
   "outputs": [
    {
     "data": {
      "text/plain": [
       "False"
      ]
     },
     "execution_count": 71,
     "metadata": {},
     "output_type": "execute_result"
    }
   ],
   "source": [
    "0.5 < z <= 1"
   ]
  },
  {
   "cell_type": "code",
   "execution_count": 72,
   "metadata": {},
   "outputs": [
    {
     "data": {
      "text/plain": [
       "True"
      ]
     },
     "execution_count": 72,
     "metadata": {},
     "output_type": "execute_result"
    }
   ],
   "source": [
    "1 < z < 3"
   ]
  },
  {
   "cell_type": "markdown",
   "metadata": {},
   "source": [
    "### Algebra de Booleanos"
   ]
  },
  {
   "cell_type": "markdown",
   "metadata": {},
   "source": [
    "|Operator|Significado | \\| | Simbolo | Acción |\n",
    "|----|--- | - |----|---|\n",
    "|`and`| and lógico | \\| | &  | a y b |\n",
    "|`or` | or lógico | \\| | $\\mid$  | a o b |\n",
    "|`not` | Not lógico | \\| | ~  | da vuelta lo anterior (no a) |"
   ]
  },
  {
   "cell_type": "code",
   "execution_count": 73,
   "metadata": {},
   "outputs": [
    {
     "data": {
      "text/plain": [
       "True"
      ]
     },
     "execution_count": 73,
     "metadata": {},
     "output_type": "execute_result"
    }
   ],
   "source": [
    "a = \"Peras\" #binary: 10\n",
    "b = \"Manzanas\" #binary: 11\n",
    "a == \"Peras\" and b == \"Manzanas\""
   ]
  },
  {
   "cell_type": "code",
   "execution_count": 74,
   "metadata": {},
   "outputs": [
    {
     "data": {
      "text/plain": [
       "True"
      ]
     },
     "execution_count": 74,
     "metadata": {},
     "output_type": "execute_result"
    }
   ],
   "source": [
    "a == \"Peras\" or b == \"Plátanos\""
   ]
  },
  {
   "cell_type": "code",
   "execution_count": 75,
   "metadata": {},
   "outputs": [
    {
     "data": {
      "text/plain": [
       "False"
      ]
     },
     "execution_count": 75,
     "metadata": {},
     "output_type": "execute_result"
    }
   ],
   "source": [
    "a == \"Sandía\" or b == \"Sandía\""
   ]
  },
  {
   "cell_type": "code",
   "execution_count": 76,
   "metadata": {},
   "outputs": [
    {
     "data": {
      "text/plain": [
       "True"
      ]
     },
     "execution_count": 76,
     "metadata": {},
     "output_type": "execute_result"
    }
   ],
   "source": [
    "not(a == \"Sandía\" or b == \"Sandía\")"
   ]
  },
  {
   "cell_type": "markdown",
   "metadata": {},
   "source": [
    "### Operadores de Asignación de variables\n",
    "\n",
    "En python podemos usar 2 tipos de sintaxis para asignar variables, el `=` para asignar algo, y el `+=` para sumar y asignar como hemos visto anteriormente."
   ]
  },
  {
   "cell_type": "code",
   "execution_count": 77,
   "metadata": {},
   "outputs": [
    {
     "name": "stdout",
     "output_type": "stream",
     "text": [
      "x vale: 1\n",
      "x vale: 3\n",
      "x vale: 6\n",
      "x vale: 0\n"
     ]
    }
   ],
   "source": [
    "x = 1\n",
    "print(\"x vale:\", x)\n",
    "x += 2 # add 2 to x\n",
    "print(\"x vale:\", x)\n",
    "x *= 2 # también se pueden usar otros operadores con el =\n",
    "print(\"x vale:\", x)\n",
    "x -= 6\n",
    "print(\"x vale:\", x)"
   ]
  },
  {
   "cell_type": "markdown",
   "metadata": {},
   "source": [
    "# Funciones Built-In"
   ]
  },
  {
   "cell_type": "markdown",
   "metadata": {},
   "source": [
    "Python viene desde que lo instalas con muchas funciones incluidas, ya hemos visto varias de ellas por ejemplo `print()`, `int()`, `str()` etc... . Además python incluye otros tipos de operaciones los cuales son accesibles luego de **importar** la librería **math**, la cual permite hacer operaciones como senos, cosenos, raices cuadradas, entre otras. <br>\n",
    "Una librería (en palabras muy simples) es un conjunto de funciones que puedes traer a tu programa en caso de que las necesites."
   ]
  },
  {
   "cell_type": "markdown",
   "metadata": {},
   "source": [
    "## Operaciones Matemáticas con ***math***\n",
    "\n",
    "En primer lugar si quieres usar operaciones debes importar math al principio del archivo/notebook, pues si tratas de usar las funciones matemáticas sin importar la librería te arrojará error. <br>\n",
    "Para importar cualquier librería usamos **import** en este caso **import math**"
   ]
  },
  {
   "cell_type": "code",
   "execution_count": 78,
   "metadata": {},
   "outputs": [
    {
     "data": {
      "text/plain": [
       "3.1622776601683795"
      ]
     },
     "execution_count": 78,
     "metadata": {},
     "output_type": "execute_result"
    }
   ],
   "source": [
    "# Si no importamos math nos arroja un error\n",
    "math.sqrt(10) "
   ]
  },
  {
   "cell_type": "code",
   "execution_count": 79,
   "metadata": {},
   "outputs": [
    {
     "data": {
      "text/plain": [
       "3.1622776601683795"
      ]
     },
     "execution_count": 79,
     "metadata": {},
     "output_type": "execute_result"
    }
   ],
   "source": [
    "# Importamos la librería\n",
    "import math\n",
    "# Usamos la operación de la forma math.operacion\n",
    "math.sqrt(10)"
   ]
  },
  {
   "cell_type": "code",
   "execution_count": 80,
   "metadata": {},
   "outputs": [
    {
     "name": "stdout",
     "output_type": "stream",
     "text": [
      "0.5253219888177297\n",
      "120\n",
      "3.141592653589793\n"
     ]
    }
   ],
   "source": [
    "print(math.cos(45))\n",
    "print(math.factorial(5))\n",
    "print(math.pi)"
   ]
  },
  {
   "cell_type": "markdown",
   "metadata": {},
   "source": [
    "Para mas información sobre todas las operaciónes que incluye la librería math puedes ir al siguiente link:\n",
    "    https://www.w3schools.com/python/module_math.asp"
   ]
  },
  {
   "cell_type": "markdown",
   "metadata": {},
   "source": [
    "## Operaciones de simplificación"
   ]
  },
  {
   "cell_type": "markdown",
   "metadata": {},
   "source": [
    "`round( )` redondea un número al entero mas cercano. <br>\n",
    "`math.floor()` redondea por abajo. *(Puedes recordarlo por la palabra piso)*<br>\n",
    "`math.ceil()` redondea por arriba. *(Puedes recordarlo por la palabra cielo)* <br>"
   ]
  },
  {
   "cell_type": "code",
   "execution_count": 81,
   "metadata": {
    "scrolled": false
   },
   "outputs": [
    {
     "name": "stdout",
     "output_type": "stream",
     "text": [
      "6\n",
      "4.56\n",
      "4.6\n"
     ]
    }
   ],
   "source": [
    "print( round(5.6231) )\n",
    "print( round(4.55892, 2) ) # Si le pasas otro número puede redondear a la decima, centesima, etc...\n",
    "print( round(4.55892, 1) )"
   ]
  },
  {
   "cell_type": "code",
   "execution_count": 82,
   "metadata": {},
   "outputs": [
    {
     "name": "stdout",
     "output_type": "stream",
     "text": [
      "4\n",
      "5\n"
     ]
    }
   ],
   "source": [
    "print(math.floor(4.8))\n",
    "print(math.ceil(4.8))"
   ]
  },
  {
   "cell_type": "markdown",
   "metadata": {},
   "source": [
    "`abs( )` da el valor absoluto de un número."
   ]
  },
  {
   "cell_type": "code",
   "execution_count": 83,
   "metadata": {},
   "outputs": [
    {
     "name": "stdout",
     "output_type": "stream",
     "text": [
      "4.5\n",
      "10\n"
     ]
    }
   ],
   "source": [
    "print(abs(-4.5))\n",
    "print(abs(-10))"
   ]
  },
  {
   "cell_type": "markdown",
   "metadata": {},
   "source": [
    "## Aceptando entradas de usuario"
   ]
  },
  {
   "cell_type": "markdown",
   "metadata": {},
   "source": [
    "Al igual que como hemos visto anteriormente, existen entradas de usuario y salidas de consola. <br>\n",
    "Para las entradas de usuario usamos `input()` el cual deja que el usuario ingrese *algo*, dicho *algo* siempre entra al programa como un string.<br>\n",
    "Por otro lado si queremos mostrar algo en consola o en este caso en el *output* usamos `print()`"
   ]
  },
  {
   "cell_type": "code",
   "execution_count": 84,
   "metadata": {},
   "outputs": [
    {
     "name": "stdout",
     "output_type": "stream",
     "text": [
      "\n",
      "\n"
     ]
    }
   ],
   "source": [
    "a = input()\n",
    "print(a)"
   ]
  },
  {
   "cell_type": "code",
   "execution_count": 88,
   "metadata": {},
   "outputs": [
    {
     "name": "stdout",
     "output_type": "stream",
     "text": [
      "Ingresa un número: 50\n",
      "Ingresa otro número: 50\n",
      "5050\n"
     ]
    }
   ],
   "source": [
    "b = input(\"Ingresa un número: \")\n",
    "c = input(\"Ingresa otro número: \")\n",
    "print(b + c) # Notar que no hemos convertido los strings a número por lo que se concatenan."
   ]
  },
  {
   "cell_type": "code",
   "execution_count": 87,
   "metadata": {},
   "outputs": [
    {
     "name": "stdout",
     "output_type": "stream",
     "text": [
      "Ingresa un número: 50\n",
      "Ingresa otro número: 50\n",
      "100.0\n"
     ]
    }
   ],
   "source": [
    "# Si queremos que se sumen los numeros usamos los conversores de tipos de datos aprendidos anteriormente\n",
    "b = float(input(\"Ingresa un número: \"))\n",
    "c = float(input(\"Ingresa otro número: \"))\n",
    "print(b + c)"
   ]
  }
 ],
 "metadata": {
  "kernelspec": {
   "display_name": "Python 3",
   "language": "python",
   "name": "python3"
  },
  "language_info": {
   "codemirror_mode": {
    "name": "ipython",
    "version": 3
   },
   "file_extension": ".py",
   "mimetype": "text/x-python",
   "name": "python",
   "nbconvert_exporter": "python",
   "pygments_lexer": "ipython3",
   "version": "3.7.8"
  }
 },
 "nbformat": 4,
 "nbformat_minor": 1
}
