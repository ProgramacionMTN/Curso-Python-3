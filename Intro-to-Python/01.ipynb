{
  "nbformat": 4,
  "nbformat_minor": 0,
  "metadata": {
    "kernelspec": {
      "display_name": "Python 3",
      "language": "python",
      "name": "python3"
    },
    "language_info": {
      "codemirror_mode": {
        "name": "ipython",
        "version": 3
      },
      "file_extension": ".py",
      "mimetype": "text/x-python",
      "name": "python",
      "nbconvert_exporter": "python",
      "pygments_lexer": "ipython3",
      "version": "3.7.8"
    },
    "colab": {
      "name": "01.ipynb",
      "provenance": []
    }
  },
  "cells": [
    {
      "cell_type": "markdown",
      "metadata": {
        "id": "f63HrdebO80n"
      },
      "source": [
        "# Comenzando en Python\n",
        "\n",
        "Python can be used like a calculator. Simply type in expressions to get them evaluated.\n",
        "En primer lugar, Python puede ser usado como una calculadora sencilla, simplemente ingresa operaciones y python te calculará los resultados.\n",
        "\n",
        "## Syntaxis Básica de sentencias (lineas) en Python\n",
        "\n",
        "Las reglas básicas para escribir lineas en Python son\n",
        "1. No se pueden poner espacios ni tabs (La tecla con dos flechitas sobre el Shift en el teclado) en los comienzos de las lineas, esto pues la identacion (Espacios o Tabs) juega un rol especial en python para otros tipos de lineas (If, else, while, for etc...).\n",
        "2. Para hacer un comentario en una linea puedes poner un \"#\" seguido del comentario.\n",
        "3. Cada linea se corre hasta el final de la linea (Genius...)\n",
        "   * a excepcion de cuando se usan parentesis o backslashes, a continuación unos ejemplos con lo dicho anteriormente\n",
        "<br>\n",
        "4. Para hacer un comentario de varias lineas puedes usar ''' comentario '''\n",
        "Corre las siguientes celdas de código para ejemplificar las instrucciones anteriores"
      ]
    },
    {
      "cell_type": "code",
      "metadata": {
        "id": "HBZLmlTQO80o",
        "outputId": "ad84c4ba-86d4-473e-8620-a817528ae780"
      },
      "source": [
        "# Sintaxis mas apropiada\n",
        "5 + 5"
      ],
      "execution_count": null,
      "outputs": [
        {
          "output_type": "execute_result",
          "data": {
            "text/plain": [
              "10"
            ]
          },
          "metadata": {
            "tags": []
          },
          "execution_count": 1
        }
      ]
    },
    {
      "cell_type": "code",
      "metadata": {
        "id": "pX56ej5SO80p",
        "outputId": "7c5b8137-e8af-44f1-f6ef-013c77cd20e3"
      },
      "source": [
        "# Este bloque tiene espacios y/o tabs antes de la linea por lo que no correrá en el programa (Regla 1)\n",
        "# (Notese el error Unexpected Ident que marca que pusiste una identación donde no corresponde)\n",
        "    5 + 5"
      ],
      "execution_count": null,
      "outputs": [
        {
          "output_type": "error",
          "ename": "IndentationError",
          "evalue": "unexpected indent (<ipython-input-2-f117c8c80f02>, line 3)",
          "traceback": [
            "\u001b[1;36m  File \u001b[1;32m\"<ipython-input-2-f117c8c80f02>\"\u001b[1;36m, line \u001b[1;32m3\u001b[0m\n\u001b[1;33m    5 + 5\u001b[0m\n\u001b[1;37m    ^\u001b[0m\n\u001b[1;31mIndentationError\u001b[0m\u001b[1;31m:\u001b[0m unexpected indent\n"
          ]
        }
      ]
    },
    {
      "cell_type": "code",
      "metadata": {
        "id": "36IBH5_wO80q"
      },
      "source": [
        "# Esto es un comentario y no correrá en el programa (Regla 2)\n",
        "# 5 + 5"
      ],
      "execution_count": null,
      "outputs": []
    },
    {
      "cell_type": "code",
      "metadata": {
        "id": "f0YpRzknO80q",
        "outputId": "d242cccb-8d40-42a5-c258-2ba7947608b5"
      },
      "source": [
        "# Solo si las lineas son muy largas puedes usar \\ para una mayor legibilidad (Regla 3)\n",
        "5 + 5 + 5 + 5 + 5 + 5 + 5 + 5 + 5+ 5 + 5 + 5 + 5 + 5 + \\\n",
        "    5 + 5 + 5 + 5 + 5 + 5 + 5 + 5 + 5+ 5 + 5 + 5 + 5 + 5"
      ],
      "execution_count": null,
      "outputs": [
        {
          "output_type": "execute_result",
          "data": {
            "text/plain": [
              "140"
            ]
          },
          "metadata": {
            "tags": []
          },
          "execution_count": 5
        }
      ]
    },
    {
      "cell_type": "code",
      "metadata": {
        "id": "zHCIDZ0yO80q",
        "outputId": "ca258407-5af6-40f0-aae3-c432614aeb17"
      },
      "source": [
        "\"\"\"\n",
        "Segun la regla 4:\n",
        "Este es un comentario de muchas lineas por lo que\n",
        "no se correra nada de esto en el codigo\n",
        "5 + 5\n",
        "3 + 3\n",
        "\"\"\"\n",
        "print(\"Hola Mundo!\")"
      ],
      "execution_count": null,
      "outputs": [
        {
          "output_type": "stream",
          "text": [
            "Hola Mundo!\n"
          ],
          "name": "stdout"
        }
      ]
    },
    {
      "cell_type": "markdown",
      "metadata": {
        "id": "Zc6fo4tLO80r"
      },
      "source": [
        "## 1. Variables y Valores"
      ]
    },
    {
      "cell_type": "markdown",
      "metadata": {
        "id": "wz4yqgbsO80r"
      },
      "source": [
        "### 1.1 Variables\n",
        "Una palabra o letra que se use para guardar un valor es llamado una variable. En python, las variables pueden ser declaradas y valuadas como se muestra a continuación"
      ]
    },
    {
      "cell_type": "code",
      "metadata": {
        "id": "p1bBUeoXO80r",
        "outputId": "7b87caac-a496-47f6-dfd1-c061090d06bb"
      },
      "source": [
        "x = 2          # todo despues de \"#\" es un comentario\n",
        "y = 5\n",
        "numero_3 = 3\n",
        "numero_4 = 20\n",
        "xy = 'Hey'     # Notar que xy no tiene nada que ver con las variables 'x' e 'y'\n",
        "print(x+y, xy) # La función 'print' te permite imprimir variables\n",
        "print(numero_3)\n",
        "print(\"Numero 4 vale:\", numero_4) # Notar que al separar con coma las cosas que quiero imprimir\n",
        "                                  # se le agrega un espacio automáticamente."
      ],
      "execution_count": null,
      "outputs": [
        {
          "output_type": "stream",
          "text": [
            "7 Hey\n",
            "3\n",
            "Numero 4 vale: 20\n"
          ],
          "name": "stdout"
        }
      ]
    },
    {
      "cell_type": "markdown",
      "metadata": {
        "id": "XxozDzTxO80s"
      },
      "source": [
        "### Tipos de datos\n",
        "Los tipos de datos que vienen con python incluyen **int** (numeros enteros), **float** (Numeros que aceptan decimales), **str** (strings, texto) y **bool** (Booleanos) a continuación se muestran ejemplos de todos ellos."
      ]
    },
    {
      "cell_type": "code",
      "metadata": {
        "id": "G8DeDlgJO80s",
        "outputId": "e0b1bddb-7e12-4d63-9535-df6c57bd2481"
      },
      "source": [
        "2.0           # numero tipo float\n",
        "-1234567890   # numero tipo int\n",
        "True  # Booleano para verdadero\n",
        "False # Booleano para falso\n",
        "'This is a string' # String\n",
        "\"It's another string\""
      ],
      "execution_count": null,
      "outputs": [
        {
          "output_type": "execute_result",
          "data": {
            "text/plain": [
              "\"It's another string\""
            ]
          },
          "metadata": {
            "tags": []
          },
          "execution_count": 8
        }
      ]
    },
    {
      "cell_type": "markdown",
      "metadata": {
        "id": "NZLI6_naO80s"
      },
      "source": [
        "Si necesitas escribir una comilla dobe (\"), o otro caracter reservado (que python reconoce como código) en un string puedes usar el caractér backslash **\\**, para escribir un salto de linea puedes escribir **\"\\n\"** dentro del string."
      ]
    },
    {
      "cell_type": "code",
      "metadata": {
        "id": "0zaaORiaO80t",
        "outputId": "af9d4b7e-fa63-4a81-bd3f-f596810d6aef"
      },
      "source": [
        "print(\"string simple\")\n",
        "print(\"string \\\"con\\\" comillas\")\n",
        "print(\"----------------------------------\")\n",
        "print(\"string con salto de linea \\n\" + \"Texto despúes del salto\")"
      ],
      "execution_count": null,
      "outputs": [
        {
          "output_type": "stream",
          "text": [
            "string simple\n",
            "string \"con\" comillas\n",
            "----------------------------------\n",
            "string con salto de linea \n",
            "Texto despúes del salto\n"
          ],
          "name": "stdout"
        }
      ]
    },
    {
      "cell_type": "markdown",
      "metadata": {
        "id": "8NlStx3RO80t"
      },
      "source": [
        "### Conversion de tipos de datos\n",
        "En python puedes pasar entre un tipo de dato a otro, por ejemplo puedes tener un string que diga \"5\" pero necesitas que dicho string sea un número, para esto usamos los comandos\n",
        "1. int(x) Para convertir a int\n",
        "2. str(x) Para convertir a string\n",
        "3. float(x) Para convertir a float\n",
        "A continuación se muestran unos ejemplos que clarifican lo anterior."
      ]
    },
    {
      "cell_type": "code",
      "metadata": {
        "id": "-IYHOX6OO80t",
        "outputId": "0cb2b43a-7a33-48cb-a340-953aed8dfc50"
      },
      "source": [
        "a = \"30\"\n",
        "b = \"10\"\n",
        "print(\"String:\", a + b) # Como ambos son strings al sumarlos se concatenan\n",
        "c = int(a)\n",
        "d = int(b)\n",
        "print(\"Int:\", c + d) # Ahora ambos datos son ints asi que se sumaran como los numeros normales\n",
        "a = float(a)\n",
        "b = float(b)\n",
        "print(\"Float: \", a + b) # Esta vez se imprime con un punto porque ambos numeros son float (decimales)"
      ],
      "execution_count": null,
      "outputs": [
        {
          "output_type": "stream",
          "text": [
            "String: 3010\n",
            "Int: 40\n",
            "Float:  40.0\n"
          ],
          "name": "stdout"
        }
      ]
    },
    {
      "cell_type": "markdown",
      "metadata": {
        "id": "kG9fBsRWO80t"
      },
      "source": [
        "## Operadores"
      ]
    },
    {
      "cell_type": "markdown",
      "metadata": {
        "id": "vYu_1vr7O80u"
      },
      "source": [
        "### Operadores Aritméticos"
      ]
    },
    {
      "cell_type": "markdown",
      "metadata": {
        "id": "mzIPIHFuO80u"
      },
      "source": [
        "| Syntax | Operación |\n",
        "|----|---|\n",
        "| +  | Suma |\n",
        "| -  | Resta |\n",
        "| /  | Division |\n",
        "| //  | Division Entera |\n",
        "| %  | Resto/Módulo/MOD |\n",
        "| *  | Multiplicación |\n",
        "| **  | Potencias |\n",
        "\n",
        "Las operaciones anteriores funcionan como cabe esperar para los numeros **float** y **int**, mientras que para los **str** ponemos unos ejemplos para que veas como se aplican las operaciones a las palabras. <br>\n",
        "*Es recomendado poner un espacio entre los numeros y los operadores para una mejor legibilidad, al igual como se muestra en los ejemplos.*"
      ]
    },
    {
      "cell_type": "code",
      "metadata": {
        "id": "cj-pRSRJO80u",
        "outputId": "5dc1355e-974a-401c-fada-f38b5d07643f"
      },
      "source": [
        "1 + 2.0"
      ],
      "execution_count": null,
      "outputs": [
        {
          "output_type": "execute_result",
          "data": {
            "text/plain": [
              "3.0"
            ]
          },
          "metadata": {
            "tags": []
          },
          "execution_count": 11
        }
      ]
    },
    {
      "cell_type": "code",
      "metadata": {
        "id": "gv9NygJfO80v",
        "outputId": "31448b6b-b82c-41f8-d361-037749e2cada"
      },
      "source": [
        "3 - 1"
      ],
      "execution_count": null,
      "outputs": [
        {
          "output_type": "execute_result",
          "data": {
            "text/plain": [
              "2"
            ]
          },
          "metadata": {
            "tags": []
          },
          "execution_count": 12
        }
      ]
    },
    {
      "cell_type": "code",
      "metadata": {
        "id": "Wu117LQNO80v",
        "outputId": "dbfcf3a0-3f59-48a3-829b-6c45141ee514"
      },
      "source": [
        "2 * 4"
      ],
      "execution_count": null,
      "outputs": [
        {
          "output_type": "execute_result",
          "data": {
            "text/plain": [
              "8"
            ]
          },
          "metadata": {
            "tags": []
          },
          "execution_count": 13
        }
      ]
    },
    {
      "cell_type": "code",
      "metadata": {
        "id": "1b1ui4OGO80v",
        "outputId": "fe539eb6-4d74-400e-8b6a-4ebe3d920dcf"
      },
      "source": [
        "3 / 4"
      ],
      "execution_count": null,
      "outputs": [
        {
          "output_type": "execute_result",
          "data": {
            "text/plain": [
              "0.75"
            ]
          },
          "metadata": {
            "tags": []
          },
          "execution_count": 14
        }
      ]
    },
    {
      "cell_type": "markdown",
      "metadata": {
        "id": "rW7RMGf1O80v"
      },
      "source": [
        "In many languages (and older versions of python) 1/2 = 0 (truncated division). In Python 3 this behaviour is captured by a separate operator that rounds down: (ie a // b$=\\lfloor \\frac{a}{b}\\rfloor$)"
      ]
    },
    {
      "cell_type": "code",
      "metadata": {
        "id": "Tz8AYIr7O80w",
        "outputId": "3099dbc7-b3ca-4624-d5a0-ddf1f8bf6bea"
      },
      "source": [
        "13 // 4.0 # El 4 cabe 3 veces en el 13"
      ],
      "execution_count": null,
      "outputs": [
        {
          "output_type": "execute_result",
          "data": {
            "text/plain": [
              "3.0"
            ]
          },
          "metadata": {
            "tags": []
          },
          "execution_count": 15
        }
      ]
    },
    {
      "cell_type": "code",
      "metadata": {
        "id": "PZgCEW_tO80w",
        "outputId": "14f221fb-5582-43a0-a71a-6561157005fb"
      },
      "source": [
        "15 % 10 # 15 dividido 10 me da un resto de 5 unidades."
      ],
      "execution_count": null,
      "outputs": [
        {
          "output_type": "execute_result",
          "data": {
            "text/plain": [
              "5"
            ]
          },
          "metadata": {
            "tags": []
          },
          "execution_count": 16
        }
      ]
    },
    {
      "cell_type": "markdown",
      "metadata": {
        "id": "PVldJiSMO80w"
      },
      "source": [
        "#### Dato Freak\n",
        "Python permite guardar numeros enteros extremadamente grandes, por lo que no deberías preocuparte por tener un número demasiado grande. Por otro lado los floats no pueden ser taaan grandes, por lo que si vas a tener cantidades grandes enteras es mejor trabajar con enteros"
      ]
    },
    {
      "cell_type": "code",
      "metadata": {
        "id": "lHlq2-N0O80w",
        "outputId": "e65c223a-7e0e-434b-aec5-7844f2190b82"
      },
      "source": [
        "11**300"
      ],
      "execution_count": null,
      "outputs": [
        {
          "output_type": "execute_result",
          "data": {
            "text/plain": [
              "2617010996188399907017032528972038342491649416953000260240805955827972056685382434497090341496787032585738884786745286700473999847280664191731008874811751310888591786111994678208920175143911761181424495660877950654145066969036252669735483098936884016471326487403792787648506879212630637101259246005701084327338001"
            ]
          },
          "metadata": {
            "tags": []
          },
          "execution_count": 17
        }
      ]
    },
    {
      "cell_type": "code",
      "metadata": {
        "id": "ZhyGvOeFO80w",
        "outputId": "555008c2-c5d2-45c4-a5c4-7ddbb1800354"
      },
      "source": [
        "11.0 ** 300"
      ],
      "execution_count": null,
      "outputs": [
        {
          "output_type": "error",
          "ename": "OverflowError",
          "evalue": "(34, 'Result too large')",
          "traceback": [
            "\u001b[1;31m---------------------------------------------------------------------------\u001b[0m",
            "\u001b[1;31mOverflowError\u001b[0m                             Traceback (most recent call last)",
            "\u001b[1;32m<ipython-input-18-7aa7af6f6c2b>\u001b[0m in \u001b[0;36m<module>\u001b[1;34m\u001b[0m\n\u001b[1;32m----> 1\u001b[1;33m \u001b[1;36m11.0\u001b[0m \u001b[1;33m**\u001b[0m \u001b[1;36m300\u001b[0m\u001b[1;33m\u001b[0m\u001b[1;33m\u001b[0m\u001b[0m\n\u001b[0m",
            "\u001b[1;31mOverflowError\u001b[0m: (34, 'Result too large')"
          ]
        }
      ]
    },
    {
      "cell_type": "markdown",
      "metadata": {
        "id": "AY4qgUV4O80x"
      },
      "source": [
        "### Operando strings\n",
        "Los mismos operadores tienen un significado intuitivo cuando los usamos con palabras, en específico\n",
        "1. `palabra + palabra` concatena dos palabras\n",
        "2. `palabra * n` concatena *n* veces una palabra"
      ]
    },
    {
      "cell_type": "code",
      "metadata": {
        "id": "gDDSLzx_O80x",
        "outputId": "cb68f1eb-0370-47be-d21d-66891194ee24"
      },
      "source": [
        "a = \"El\"\n",
        "b = \" Pancho Ruiz\"\n",
        "print(a + b)\n",
        "c = \"Manzana\"\n",
        "print(c * 4)"
      ],
      "execution_count": null,
      "outputs": [
        {
          "output_type": "stream",
          "text": [
            "El Pancho Ruiz\n",
            "ManzanaManzanaManzanaManzana\n"
          ],
          "name": "stdout"
        }
      ]
    },
    {
      "cell_type": "markdown",
      "metadata": {
        "id": "eeCYR4rdO80x"
      },
      "source": [
        "### Operadores Lógicos"
      ]
    },
    {
      "cell_type": "markdown",
      "metadata": {
        "id": "I3fFIUVHO80x"
      },
      "source": [
        "| Syntax | Operación |\n",
        "|----| :--- |\n",
        "| == | Igual |\n",
        "| !=  | Distinto |\n",
        "| < | Menor que |\n",
        "| > | Mayor que |\n",
        "| <=  | Menor o igual que |\n",
        "| >=  | Mayor o igual que |\n",
        "\n",
        "Notar la diferencia entre `==` (Prueba si dos variables son iguales) y `=`(Asigna una variable)\n",
        "Note the difference between `==` (equality test) and `=` (assignment)"
      ]
    },
    {
      "cell_type": "code",
      "metadata": {
        "id": "ZLlwgasGO80x",
        "outputId": "20c2835d-aa53-4f44-8a20-2d0ae4626dd5"
      },
      "source": [
        "z = 2 # Le asigno el valor 2 a la variable z\n",
        "z == 2 # Comparo si z = 2"
      ],
      "execution_count": null,
      "outputs": [
        {
          "output_type": "execute_result",
          "data": {
            "text/plain": [
              "True"
            ]
          },
          "metadata": {
            "tags": []
          },
          "execution_count": 69
        }
      ]
    },
    {
      "cell_type": "code",
      "metadata": {
        "id": "crjjCHyAO80y",
        "outputId": "a3bc2cc8-5aa5-4fec-fe92-61c9f067a293"
      },
      "source": [
        "z > 2"
      ],
      "execution_count": null,
      "outputs": [
        {
          "output_type": "execute_result",
          "data": {
            "text/plain": [
              "False"
            ]
          },
          "metadata": {
            "tags": []
          },
          "execution_count": 70
        }
      ]
    },
    {
      "cell_type": "markdown",
      "metadata": {
        "id": "UWN2Q-wFO80y"
      },
      "source": [
        "Comparisons can also be chained in the mathematically obvious way. The following will work as expected in Python (but not in other languages like C/C++):\n",
        "En python a diferencia de otros lenguajes puedes juntar algunos operadores lógicos como se hace en matemáticas (Esto no es cierto para todos los lenguajes como C++ etc...)."
      ]
    },
    {
      "cell_type": "code",
      "metadata": {
        "id": "W5CBJQNLO80y",
        "outputId": "fb938c37-48a3-4699-fb9f-d66cd7b86370"
      },
      "source": [
        "0.5 < z <= 1"
      ],
      "execution_count": null,
      "outputs": [
        {
          "output_type": "execute_result",
          "data": {
            "text/plain": [
              "False"
            ]
          },
          "metadata": {
            "tags": []
          },
          "execution_count": 71
        }
      ]
    },
    {
      "cell_type": "code",
      "metadata": {
        "id": "DYXZ0-V6O80y",
        "outputId": "2ca12dd4-f558-4512-f12a-7bad2ff84ae7"
      },
      "source": [
        "1 < z < 3"
      ],
      "execution_count": null,
      "outputs": [
        {
          "output_type": "execute_result",
          "data": {
            "text/plain": [
              "True"
            ]
          },
          "metadata": {
            "tags": []
          },
          "execution_count": 72
        }
      ]
    },
    {
      "cell_type": "markdown",
      "metadata": {
        "id": "iJgsYt7cO80y"
      },
      "source": [
        "### Algebra de Booleanos"
      ]
    },
    {
      "cell_type": "markdown",
      "metadata": {
        "id": "_O0I8hnPO80y"
      },
      "source": [
        "|Operator|Significado | \\| | Simbolo | Acción |\n",
        "|----|--- | - |----|---|\n",
        "|`and`| and lógico | \\| | &  | a y b |\n",
        "|`or` | or lógico | \\| | $\\mid$  | a o b |\n",
        "|`not` | Not lógico | \\| | ~  | da vuelta lo anterior (no a) |"
      ]
    },
    {
      "cell_type": "code",
      "metadata": {
        "id": "lKO42INbO80z",
        "outputId": "32dfb665-2a41-4af5-968e-196728a30bc1",
        "colab": {
          "base_uri": "https://localhost:8080/"
        }
      },
      "source": [
        "a = \"Peras\"\n",
        "b = \"Manzanas\"\n",
        "a == \"Peras\" and b == \"Manzanas\""
      ],
      "execution_count": 1,
      "outputs": [
        {
          "output_type": "execute_result",
          "data": {
            "text/plain": [
              "True"
            ]
          },
          "metadata": {
            "tags": []
          },
          "execution_count": 1
        }
      ]
    },
    {
      "cell_type": "code",
      "metadata": {
        "id": "MrUzS2AsO80z",
        "outputId": "5732a164-6854-4d29-fbc6-32ffa888828a"
      },
      "source": [
        "a == \"Peras\" or b == \"Plátanos\""
      ],
      "execution_count": null,
      "outputs": [
        {
          "output_type": "execute_result",
          "data": {
            "text/plain": [
              "True"
            ]
          },
          "metadata": {
            "tags": []
          },
          "execution_count": 74
        }
      ]
    },
    {
      "cell_type": "code",
      "metadata": {
        "id": "jFN6jfpnO80z",
        "outputId": "0a2db49c-bb1a-4c5e-c433-806ae86c45ee"
      },
      "source": [
        "a == \"Sandía\" or b == \"Sandía\""
      ],
      "execution_count": null,
      "outputs": [
        {
          "output_type": "execute_result",
          "data": {
            "text/plain": [
              "False"
            ]
          },
          "metadata": {
            "tags": []
          },
          "execution_count": 75
        }
      ]
    },
    {
      "cell_type": "code",
      "metadata": {
        "id": "55gFqjRDO80z",
        "outputId": "d1e41e60-e1b2-4f18-8efa-9826da5a781a"
      },
      "source": [
        "not(a == \"Sandía\" or b == \"Sandía\")"
      ],
      "execution_count": null,
      "outputs": [
        {
          "output_type": "execute_result",
          "data": {
            "text/plain": [
              "True"
            ]
          },
          "metadata": {
            "tags": []
          },
          "execution_count": 76
        }
      ]
    },
    {
      "cell_type": "markdown",
      "metadata": {
        "id": "j9RsQl6GO80z"
      },
      "source": [
        "### Operadores de Asignación de variables\n",
        "\n",
        "En python podemos usar 2 tipos de sintaxis para asignar variables, el `=` para asignar algo, y el `+=` para sumar y asignar como hemos visto anteriormente."
      ]
    },
    {
      "cell_type": "code",
      "metadata": {
        "id": "Lc0rGa25O800",
        "outputId": "1032b055-2288-44d1-f830-0eac0ce25669"
      },
      "source": [
        "x = 1\n",
        "print(\"x vale:\", x)\n",
        "x += 2 # add 2 to x\n",
        "print(\"x vale:\", x)\n",
        "x *= 2 # también se pueden usar otros operadores con el =\n",
        "print(\"x vale:\", x)\n",
        "x -= 6\n",
        "print(\"x vale:\", x)"
      ],
      "execution_count": null,
      "outputs": [
        {
          "output_type": "stream",
          "text": [
            "x vale: 1\n",
            "x vale: 3\n",
            "x vale: 6\n",
            "x vale: 0\n"
          ],
          "name": "stdout"
        }
      ]
    },
    {
      "cell_type": "markdown",
      "metadata": {
        "id": "CCDqLPLrO800"
      },
      "source": [
        "# Funciones Built-In"
      ]
    },
    {
      "cell_type": "markdown",
      "metadata": {
        "id": "pT1pmRWdO800"
      },
      "source": [
        "Python viene desde que lo instalas con muchas funciones incluidas, ya hemos visto varias de ellas por ejemplo `print()`, `int()`, `str()` etc... . Además python incluye otros tipos de operaciones los cuales son accesibles luego de **importar** la librería **math**, la cual permite hacer operaciones como senos, cosenos, raices cuadradas, entre otras. <br>\n",
        "Una librería (en palabras muy simples) es un conjunto de funciones que puedes traer a tu programa en caso de que las necesites."
      ]
    },
    {
      "cell_type": "markdown",
      "metadata": {
        "id": "boj-DfdEO800"
      },
      "source": [
        "## Operaciones Matemáticas con ***math***\n",
        "\n",
        "En primer lugar si quieres usar operaciones debes importar math al principio del archivo/notebook, pues si tratas de usar las funciones matemáticas sin importar la librería te arrojará error. <br>\n",
        "Para importar cualquier librería usamos **import** en este caso **import math**"
      ]
    },
    {
      "cell_type": "code",
      "metadata": {
        "id": "bM6ya3BsO801",
        "outputId": "0bac7d5c-3a57-4cc6-cd5e-13c0897ae1d3"
      },
      "source": [
        "# Si no importamos math nos arroja un error\n",
        "math.sqrt(10) "
      ],
      "execution_count": null,
      "outputs": [
        {
          "output_type": "execute_result",
          "data": {
            "text/plain": [
              "3.1622776601683795"
            ]
          },
          "metadata": {
            "tags": []
          },
          "execution_count": 78
        }
      ]
    },
    {
      "cell_type": "code",
      "metadata": {
        "id": "D3jaVFS1O801",
        "outputId": "77db20cd-491d-4c4a-c0a7-21907a3bdc22"
      },
      "source": [
        "# Importamos la librería\n",
        "import math\n",
        "# Usamos la operación de la forma math.operacion\n",
        "math.sqrt(10)"
      ],
      "execution_count": null,
      "outputs": [
        {
          "output_type": "execute_result",
          "data": {
            "text/plain": [
              "3.1622776601683795"
            ]
          },
          "metadata": {
            "tags": []
          },
          "execution_count": 79
        }
      ]
    },
    {
      "cell_type": "code",
      "metadata": {
        "id": "znSG3N9_O801",
        "outputId": "766cd2d5-de26-44c9-f782-4242ccf24d36"
      },
      "source": [
        "print(math.cos(45))\n",
        "print(math.factorial(5))\n",
        "print(math.pi)"
      ],
      "execution_count": null,
      "outputs": [
        {
          "output_type": "stream",
          "text": [
            "0.5253219888177297\n",
            "120\n",
            "3.141592653589793\n"
          ],
          "name": "stdout"
        }
      ]
    },
    {
      "cell_type": "markdown",
      "metadata": {
        "id": "ktx2CZ1eO801"
      },
      "source": [
        "Para mas información sobre todas las operaciónes que incluye la librería math puedes ir al siguiente link:\n",
        "    https://www.w3schools.com/python/module_math.asp"
      ]
    },
    {
      "cell_type": "markdown",
      "metadata": {
        "id": "pCdRqZCAO801"
      },
      "source": [
        "## Operaciones de simplificación"
      ]
    },
    {
      "cell_type": "markdown",
      "metadata": {
        "id": "Ao3dAN6LO802"
      },
      "source": [
        "`round( )` redondea un número al entero mas cercano. <br>\n",
        "`math.floor()` redondea por abajo. *(Puedes recordarlo por la palabra piso)*<br>\n",
        "`math.ceil()` redondea por arriba. *(Puedes recordarlo por la palabra cielo)* <br>"
      ]
    },
    {
      "cell_type": "code",
      "metadata": {
        "scrolled": false,
        "id": "8TLFOfeYO802",
        "outputId": "c9b64579-14d2-4c06-f648-b9aa0f50df4f"
      },
      "source": [
        "print( round(5.6231) )\n",
        "print( round(4.55892, 2) ) # Si le pasas otro número puede redondear a la decima, centesima, etc...\n",
        "print( round(4.55892, 1) )"
      ],
      "execution_count": null,
      "outputs": [
        {
          "output_type": "stream",
          "text": [
            "6\n",
            "4.56\n",
            "4.6\n"
          ],
          "name": "stdout"
        }
      ]
    },
    {
      "cell_type": "code",
      "metadata": {
        "id": "gaCYTgprO802",
        "outputId": "12a131f4-a298-455a-8da8-47494a9a8719"
      },
      "source": [
        "print(math.floor(4.8))\n",
        "print(math.ceil(4.8))"
      ],
      "execution_count": null,
      "outputs": [
        {
          "output_type": "stream",
          "text": [
            "4\n",
            "5\n"
          ],
          "name": "stdout"
        }
      ]
    },
    {
      "cell_type": "markdown",
      "metadata": {
        "id": "wIMU6-G4O802"
      },
      "source": [
        "`abs( )` da el valor absoluto de un número."
      ]
    },
    {
      "cell_type": "code",
      "metadata": {
        "id": "Ao_5VuuSO802",
        "outputId": "4d6cda5a-162a-4cdb-8fd2-c15d6832a93c"
      },
      "source": [
        "print(abs(-4.5))\n",
        "print(abs(-10))"
      ],
      "execution_count": null,
      "outputs": [
        {
          "output_type": "stream",
          "text": [
            "4.5\n",
            "10\n"
          ],
          "name": "stdout"
        }
      ]
    },
    {
      "cell_type": "markdown",
      "metadata": {
        "id": "01tHZpbmO803"
      },
      "source": [
        "## Aceptando entradas de usuario"
      ]
    },
    {
      "cell_type": "markdown",
      "metadata": {
        "id": "SI-FuXf-O803"
      },
      "source": [
        "Al igual que como hemos visto anteriormente, existen entradas de usuario y salidas de consola. <br>\n",
        "Para las entradas de usuario usamos `input()` el cual deja que el usuario ingrese *algo*, dicho *algo* siempre entra al programa como un string.<br>\n",
        "Por otro lado si queremos mostrar algo en consola o en este caso en el *output* usamos `print()`"
      ]
    },
    {
      "cell_type": "code",
      "metadata": {
        "id": "9OuySyNcO803",
        "outputId": "65b37bdc-ef1b-40dc-db9f-7face307a24a"
      },
      "source": [
        "a = input()\n",
        "print(a)"
      ],
      "execution_count": null,
      "outputs": [
        {
          "output_type": "stream",
          "text": [
            "\n",
            "\n"
          ],
          "name": "stdout"
        }
      ]
    },
    {
      "cell_type": "code",
      "metadata": {
        "id": "n7W8i_YYO803",
        "outputId": "a1c04622-b12f-4cf0-c3d2-57663dbb8de1"
      },
      "source": [
        "b = input(\"Ingresa un número: \")\n",
        "c = input(\"Ingresa otro número: \")\n",
        "print(b + c) # Notar que no hemos convertido los strings a número por lo que se concatenan."
      ],
      "execution_count": null,
      "outputs": [
        {
          "output_type": "stream",
          "text": [
            "Ingresa un número: 50\n",
            "Ingresa otro número: 50\n",
            "5050\n"
          ],
          "name": "stdout"
        }
      ]
    },
    {
      "cell_type": "code",
      "metadata": {
        "id": "V3kQ4jlVO803",
        "outputId": "364fd8e8-c09e-4b00-acf1-bc20425d46a7"
      },
      "source": [
        "# Si queremos que se sumen los numeros usamos los conversores de tipos de datos aprendidos anteriormente\n",
        "b = float(input(\"Ingresa un número: \"))\n",
        "c = float(input(\"Ingresa otro número: \"))\n",
        "print(b + c)"
      ],
      "execution_count": null,
      "outputs": [
        {
          "output_type": "stream",
          "text": [
            "Ingresa un número: 50\n",
            "Ingresa otro número: 50\n",
            "100.0\n"
          ],
          "name": "stdout"
        }
      ]
    }
  ]
}