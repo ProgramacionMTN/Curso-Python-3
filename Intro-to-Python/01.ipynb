{
  "nbformat": 4,
  "nbformat_minor": 0,
  "metadata": {
    "kernelspec": {
      "display_name": "Python 3",
      "language": "python",
      "name": "python3"
    },
    "language_info": {
      "codemirror_mode": {
        "name": "ipython",
        "version": 3
      },
      "file_extension": ".py",
      "mimetype": "text/x-python",
      "name": "python",
      "nbconvert_exporter": "python",
      "pygments_lexer": "ipython3",
      "version": "3.7.8"
    },
    "colab": {
      "name": "01.ipynb",
      "provenance": []
    }
  },
  "cells": [
    {
      "cell_type": "markdown",
      "metadata": {
        "id": "Dlz5UFnasRFQ"
      },
      "source": [
        "# Comenzando en Python\n",
        "\n",
        "Python can be used like a calculator. Simply type in expressions to get them evaluated.\n",
        "En primer lugar, Python puede ser usado como una calculadora sencilla, simplemente ingresa operaciones y python te calculará los resultados.\n",
        "\n",
        "## Syntaxis Básica de sentencias (lineas) en Python\n",
        "\n",
        "Las reglas básicas para escribir lineas en Python son\n",
        "1. No se pueden poner espacios ni tabs (La tecla con dos flechitas sobre el Shift en el teclado) en los comienzos de las lineas, esto pues la identacion (Espacios o Tabs) juega un rol especial en python para otros tipos de lineas (If, else, while, for etc...).\n",
        "2. Para hacer un comentario en una linea puedes poner un \"#\" seguido del comentario.\n",
        "3. Cada linea se corre hasta el final de la linea (Genius...)\n",
        "   * a excepcion de cuando se usan parentesis o backslashes, a continuación unos ejemplos con lo dicho anteriormente\n",
        "<br>\n",
        "4. Para hacer un comentario de varias lineas puedes usar ''' comentario '''\n",
        "Corre las siguientes celdas de código para ejemplificar las instrucciones anteriores"
      ]
    },
    {
      "cell_type": "code",
      "metadata": {
        "id": "QoKdMwbTsRFS",
        "outputId": "0aeaa9de-9041-4192-f40f-15e6374b3500"
      },
      "source": [
        "# Sintaxis mas apropiada\n",
        "5 + 5"
      ],
      "execution_count": null,
      "outputs": [
        {
          "output_type": "execute_result",
          "data": {
            "text/plain": [
              "10"
            ]
          },
          "metadata": {
            "tags": []
          },
          "execution_count": 1
        }
      ]
    },
    {
      "cell_type": "code",
      "metadata": {
        "id": "xGSxlHrdsRFU",
        "outputId": "1be569b5-2bfb-4653-946c-7d90290769b9"
      },
      "source": [
        "# Este bloque tiene espacios y/o tabs antes de la linea por lo que no correrá en el programa (Regla 1)\n",
        "# (Notese el error Unexpected Ident que marca que pusiste una identación donde no corresponde)\n",
        "    5 + 5"
      ],
      "execution_count": null,
      "outputs": [
        {
          "output_type": "error",
          "ename": "IndentationError",
          "evalue": "unexpected indent (<ipython-input-2-f117c8c80f02>, line 3)",
          "traceback": [
            "\u001b[1;36m  File \u001b[1;32m\"<ipython-input-2-f117c8c80f02>\"\u001b[1;36m, line \u001b[1;32m3\u001b[0m\n\u001b[1;33m    5 + 5\u001b[0m\n\u001b[1;37m    ^\u001b[0m\n\u001b[1;31mIndentationError\u001b[0m\u001b[1;31m:\u001b[0m unexpected indent\n"
          ]
        }
      ]
    },
    {
      "cell_type": "code",
      "metadata": {
        "id": "ySueutdqsRFU"
      },
      "source": [
        "# Esto es un comentario y no correrá en el programa (Regla 2)\n",
        "# 5 + 5"
      ],
      "execution_count": null,
      "outputs": []
    },
    {
      "cell_type": "code",
      "metadata": {
        "id": "quTr3reesRFV",
        "outputId": "632d0456-0f8b-4e76-efe0-e6daa5c56152"
      },
      "source": [
        "# Solo si las lineas son muy largas puedes usar \\ para una mayor legibilidad (Regla 3)\n",
        "5 + 5 + 5 + 5 + 5 + 5 + 5 + 5 + 5+ 5 + 5 + 5 + 5 + 5 + \\\n",
        "    5 + 5 + 5 + 5 + 5 + 5 + 5 + 5 + 5+ 5 + 5 + 5 + 5 + 5"
      ],
      "execution_count": null,
      "outputs": [
        {
          "output_type": "execute_result",
          "data": {
            "text/plain": [
              "140"
            ]
          },
          "metadata": {
            "tags": []
          },
          "execution_count": 5
        }
      ]
    },
    {
      "cell_type": "code",
      "metadata": {
        "id": "Lv0QCXgusRFV",
        "outputId": "1ad44ba0-664b-4fe0-d1a4-6407fb6da7a0"
      },
      "source": [
        "\"\"\"\n",
        "Segun la regla 4:\n",
        "Este es un comentario de muchas lineas por lo que\n",
        "no se correra nada de esto en el codigo\n",
        "5 + 5\n",
        "3 + 3\n",
        "\"\"\"\n",
        "print(\"Hola Mundo!\")"
      ],
      "execution_count": null,
      "outputs": [
        {
          "output_type": "stream",
          "text": [
            "Hola Mundo!\n"
          ],
          "name": "stdout"
        }
      ]
    },
    {
      "cell_type": "markdown",
      "metadata": {
        "id": "HCj9NqPSsRFW"
      },
      "source": [
        "## 1. Variables y Valores"
      ]
    },
    {
      "cell_type": "markdown",
      "metadata": {
        "id": "CU7SroY8sRFW"
      },
      "source": [
        "### 1.1 Variables\n",
        "Una palabra o letra que se use para guardar un valor es llamado una variable. En python, las variables pueden ser declaradas y valuadas como se muestra a continuación"
      ]
    },
    {
      "cell_type": "code",
      "metadata": {
        "id": "0Aj0h47LsRFW",
        "outputId": "4b0f3442-104b-47ff-b587-ad37df1c5696"
      },
      "source": [
        "x = 2          # todo despues de \"#\" es un comentario\n",
        "y = 5\n",
        "numero_3 = 3\n",
        "numero_4 = 20\n",
        "xy = 'Hey'     # Notar que xy no tiene nada que ver con las variables 'x' e 'y'\n",
        "print(x+y, xy) # La función 'print' te permite imprimir variables\n",
        "print(numero_3)\n",
        "print(\"Numero 4 vale:\", numero_4) # Notar que al separar con coma las cosas que quiero imprimir\n",
        "                                  # se le agrega un espacio automáticamente."
      ],
      "execution_count": null,
      "outputs": [
        {
          "output_type": "stream",
          "text": [
            "7 Hey\n",
            "3\n",
            "Numero 4 vale: 20\n"
          ],
          "name": "stdout"
        }
      ]
    },
    {
      "cell_type": "markdown",
      "metadata": {
        "id": "y3-VB1GZsRFX"
      },
      "source": [
        "### Tipos de datos\n",
        "Los tipos de datos que vienen con python incluyen **int** (numeros enteros), **float** (Numeros que aceptan decimales), **str** (strings, texto) y **bool** (Booleanos) a continuación se muestran ejemplos de todos ellos."
      ]
    },
    {
      "cell_type": "code",
      "metadata": {
        "id": "TOkhF1J8sRFX",
        "outputId": "aa5aae80-ce71-4707-c771-3f9402bbc0b3"
      },
      "source": [
        "2.0           # numero tipo float\n",
        "-1234567890   # numero tipo int\n",
        "True  # Booleano para verdadero\n",
        "False # Booleano para falso\n",
        "'This is a string' # String\n",
        "\"It's another string\""
      ],
      "execution_count": null,
      "outputs": [
        {
          "output_type": "execute_result",
          "data": {
            "text/plain": [
              "\"It's another string\""
            ]
          },
          "metadata": {
            "tags": []
          },
          "execution_count": 8
        }
      ]
    },
    {
      "cell_type": "markdown",
      "metadata": {
        "id": "uLCK9Sd7sRFY"
      },
      "source": [
        "Si necesitas escribir una comilla dobe (\"), o otro caracter reservado (que python reconoce como código) en un string puedes usar el caractér backslash **\\**, para escribir un salto de linea puedes escribir **\"\\n\"** dentro del string."
      ]
    },
    {
      "cell_type": "code",
      "metadata": {
        "id": "D_Kj4SHasRFY",
        "outputId": "0c90b429-5b48-4b66-d1c1-3886454dd1f0"
      },
      "source": [
        "print(\"string simple\")\n",
        "print(\"string \\\"con\\\" comillas\")\n",
        "print(\"----------------------------------\")\n",
        "print(\"string con salto de linea \\n\" + \"Texto despúes del salto\")"
      ],
      "execution_count": null,
      "outputs": [
        {
          "output_type": "stream",
          "text": [
            "string simple\n",
            "string \"con\" comillas\n",
            "----------------------------------\n",
            "string con salto de linea \n",
            "Texto despúes del salto\n"
          ],
          "name": "stdout"
        }
      ]
    },
    {
      "cell_type": "markdown",
      "metadata": {
        "id": "78fp1_EwsRFY"
      },
      "source": [
        "### Conversion de tipos de datos\n",
        "En python puedes pasar entre un tipo de dato a otro, por ejemplo puedes tener un string que diga \"5\" pero necesitas que dicho string sea un número, para esto usamos los comandos\n",
        "1. int(x) Para convertir a int\n",
        "2. str(x) Para convertir a string\n",
        "3. float(x) Para convertir a float\n",
        "A continuación se muestran unos ejemplos que clarifican lo anterior."
      ]
    },
    {
      "cell_type": "code",
      "metadata": {
        "id": "qnX7F0C9sRFY",
        "outputId": "05d8c2dc-f82d-4a33-bad7-476d8201793e"
      },
      "source": [
        "a = \"30\"\n",
        "b = \"10\"\n",
        "print(\"String:\", a + b) # Como ambos son strings al sumarlos se concatenan\n",
        "c = int(a)\n",
        "d = int(b)\n",
        "print(\"Int:\", c + d) # Ahora ambos datos son ints asi que se sumaran como los numeros normales\n",
        "a = float(a)\n",
        "b = float(b)\n",
        "print(\"Float: \", a + b) # Esta vez se imprime con un punto porque ambos numeros son float (decimales)"
      ],
      "execution_count": null,
      "outputs": [
        {
          "output_type": "stream",
          "text": [
            "String: 3010\n",
            "Int: 40\n",
            "Float:  40.0\n"
          ],
          "name": "stdout"
        }
      ]
    },
    {
      "cell_type": "markdown",
      "metadata": {
        "id": "biPQLZ7csRFZ"
      },
      "source": [
        "## Operadores"
      ]
    },
    {
      "cell_type": "markdown",
      "metadata": {
        "id": "dox882fjsRFZ"
      },
      "source": [
        "### Operadores Aritméticos"
      ]
    },
    {
      "cell_type": "markdown",
      "metadata": {
        "id": "BcJ_EZqCsRFZ"
      },
      "source": [
        "| Syntax | Operación |\n",
        "|----|---|\n",
        "| +  | Suma |\n",
        "| -  | Resta |\n",
        "| /  | Division |\n",
        "| //  | Division Entera |\n",
        "| %  | Resto/Módulo/MOD |\n",
        "| *  | Multiplicación |\n",
        "| **  | Potencias |\n",
        "\n",
        "Las operaciones anteriores funcionan como cabe esperar para los numeros **float** y **int**, mientras que para los **str** ponemos unos ejemplos para que veas como se aplican las operaciones a las palabras. <br>\n",
        "*Es recomendado poner un espacio entre los numeros y los operadores para una mejor legibilidad, al igual como se muestra en los ejemplos.*"
      ]
    },
    {
      "cell_type": "code",
      "metadata": {
        "id": "Xpc0mzdpsRFZ",
        "outputId": "a6e0f86c-f536-45c7-edfc-b974aaf5fa3a"
      },
      "source": [
        "1 + 2.0"
      ],
      "execution_count": null,
      "outputs": [
        {
          "output_type": "execute_result",
          "data": {
            "text/plain": [
              "3.0"
            ]
          },
          "metadata": {
            "tags": []
          },
          "execution_count": 11
        }
      ]
    },
    {
      "cell_type": "code",
      "metadata": {
        "id": "QcUAFIhzsRFa",
        "outputId": "476c04be-059a-4f9c-9934-e290bf2e55fb"
      },
      "source": [
        "3 - 1"
      ],
      "execution_count": null,
      "outputs": [
        {
          "output_type": "execute_result",
          "data": {
            "text/plain": [
              "2"
            ]
          },
          "metadata": {
            "tags": []
          },
          "execution_count": 12
        }
      ]
    },
    {
      "cell_type": "code",
      "metadata": {
        "id": "A2jItQEbsRFa",
        "outputId": "e66fc1ff-8165-40a5-c272-7c6ddef71ffd"
      },
      "source": [
        "2 * 4"
      ],
      "execution_count": null,
      "outputs": [
        {
          "output_type": "execute_result",
          "data": {
            "text/plain": [
              "8"
            ]
          },
          "metadata": {
            "tags": []
          },
          "execution_count": 13
        }
      ]
    },
    {
      "cell_type": "code",
      "metadata": {
        "id": "YdmtCeA7sRFb",
        "outputId": "fccdbb82-c85b-4a53-e760-1750e71611d6"
      },
      "source": [
        "3 / 4"
      ],
      "execution_count": null,
      "outputs": [
        {
          "output_type": "execute_result",
          "data": {
            "text/plain": [
              "0.75"
            ]
          },
          "metadata": {
            "tags": []
          },
          "execution_count": 14
        }
      ]
    },
    {
      "cell_type": "markdown",
      "metadata": {
        "id": "zwcBEX6psRFc"
      },
      "source": [
        "In many languages (and older versions of python) 1/2 = 0 (truncated division). In Python 3 this behaviour is captured by a separate operator that rounds down: (ie a // b$=\\lfloor \\frac{a}{b}\\rfloor$)"
      ]
    },
    {
      "cell_type": "code",
      "metadata": {
        "id": "o0TfSBh4sRFc",
        "outputId": "538e8e24-cf71-4fe6-fcdc-659b953d73da"
      },
      "source": [
        "13 // 4.0 # El 4 cabe 3 veces en el 13"
      ],
      "execution_count": null,
      "outputs": [
        {
          "output_type": "execute_result",
          "data": {
            "text/plain": [
              "3.0"
            ]
          },
          "metadata": {
            "tags": []
          },
          "execution_count": 15
        }
      ]
    },
    {
      "cell_type": "code",
      "metadata": {
        "id": "Nvj4MG_PsRFc",
        "outputId": "ebd73244-aa63-4c82-d75f-327a6cc5d930"
      },
      "source": [
        "15 % 10 # 15 dividido 10 me da un resto de 5 unidades."
      ],
      "execution_count": null,
      "outputs": [
        {
          "output_type": "execute_result",
          "data": {
            "text/plain": [
              "5"
            ]
          },
          "metadata": {
            "tags": []
          },
          "execution_count": 16
        }
      ]
    },
    {
      "cell_type": "markdown",
      "metadata": {
        "id": "mqElfaZKsRFc"
      },
      "source": [
        "#### Dato Freak\n",
        "Python permite guardar numeros enteros extremadamente grandes, por lo que no deberías preocuparte por tener un número demasiado grande. Por otro lado los floats no pueden ser taaan grandes, por lo que si vas a tener cantidades grandes enteras es mejor trabajar con enteros"
      ]
    },
    {
      "cell_type": "code",
      "metadata": {
        "id": "8uvV4pkCsRFc",
        "outputId": "e07829e8-7eaa-49a5-c29f-ee8b75517523"
      },
      "source": [
        "11**300"
      ],
      "execution_count": null,
      "outputs": [
        {
          "output_type": "execute_result",
          "data": {
            "text/plain": [
              "2617010996188399907017032528972038342491649416953000260240805955827972056685382434497090341496787032585738884786745286700473999847280664191731008874811751310888591786111994678208920175143911761181424495660877950654145066969036252669735483098936884016471326487403792787648506879212630637101259246005701084327338001"
            ]
          },
          "metadata": {
            "tags": []
          },
          "execution_count": 17
        }
      ]
    },
    {
      "cell_type": "code",
      "metadata": {
        "id": "GhU6P8y4sRFd",
        "outputId": "d9557018-109f-4301-d62d-544d880022dc"
      },
      "source": [
        "11.0 ** 300"
      ],
      "execution_count": null,
      "outputs": [
        {
          "output_type": "error",
          "ename": "OverflowError",
          "evalue": "(34, 'Result too large')",
          "traceback": [
            "\u001b[1;31m---------------------------------------------------------------------------\u001b[0m",
            "\u001b[1;31mOverflowError\u001b[0m                             Traceback (most recent call last)",
            "\u001b[1;32m<ipython-input-18-7aa7af6f6c2b>\u001b[0m in \u001b[0;36m<module>\u001b[1;34m\u001b[0m\n\u001b[1;32m----> 1\u001b[1;33m \u001b[1;36m11.0\u001b[0m \u001b[1;33m**\u001b[0m \u001b[1;36m300\u001b[0m\u001b[1;33m\u001b[0m\u001b[1;33m\u001b[0m\u001b[0m\n\u001b[0m",
            "\u001b[1;31mOverflowError\u001b[0m: (34, 'Result too large')"
          ]
        }
      ]
    },
    {
      "cell_type": "markdown",
      "metadata": {
        "id": "o2cZbLaGsRFd"
      },
      "source": [
        "### Operando strings\n",
        "Los mismos operadores tienen un significado intuitivo cuando los usamos con palabras, en específico\n",
        "1. `palabra + palabra` concatena dos palabras\n",
        "2. `palabra * n` concatena *n* veces una palabra"
      ]
    },
    {
      "cell_type": "code",
      "metadata": {
        "id": "LIrHXbersRFd",
        "outputId": "5a8bfde2-f786-449a-f75c-31df2d374823"
      },
      "source": [
        "a = \"El\"\n",
        "b = \" Pancho Ruiz\"\n",
        "print(a + b)\n",
        "c = \"Manzana\"\n",
        "print(c * 4)"
      ],
      "execution_count": null,
      "outputs": [
        {
          "output_type": "stream",
          "text": [
            "El Pancho Ruiz\n",
            "ManzanaManzanaManzanaManzana\n"
          ],
          "name": "stdout"
        }
      ]
    },
    {
      "cell_type": "markdown",
      "metadata": {
        "id": "YNHXrgiJsRFd"
      },
      "source": [
        "### Operadores Lógicos"
      ]
    },
    {
      "cell_type": "markdown",
      "metadata": {
        "id": "BO7_vtrdsRFd"
      },
      "source": [
        "| Syntax | Operación |\n",
        "|----| :--- |\n",
        "| == | Igual |\n",
        "| !=  | Distinto |\n",
        "| < | Menor que |\n",
        "| > | Mayor que |\n",
        "| <=  | Menor o igual que |\n",
        "| >=  | Mayor o igual que |\n",
        "\n",
        "Notar la diferencia entre `==` (Prueba si dos variables son iguales) y `=`(Asigna una variable)\n",
        "Note the difference between `==` (equality test) and `=` (assignment)"
      ]
    },
    {
      "cell_type": "code",
      "metadata": {
        "id": "RnfBQpUTsRFe",
        "outputId": "d677d07b-9788-4012-8e26-72160aeb8c49"
      },
      "source": [
        "z = 2 # Le asigno el valor 2 a la variable z\n",
        "z == 2 # Comparo si z = 2"
      ],
      "execution_count": null,
      "outputs": [
        {
          "output_type": "execute_result",
          "data": {
            "text/plain": [
              "True"
            ]
          },
          "metadata": {
            "tags": []
          },
          "execution_count": 69
        }
      ]
    },
    {
      "cell_type": "code",
      "metadata": {
        "id": "Mcz3CRIOsRFe",
        "outputId": "c0700a42-d58f-4c5f-90b0-49ed2ae4cd29"
      },
      "source": [
        "z > 2"
      ],
      "execution_count": null,
      "outputs": [
        {
          "output_type": "execute_result",
          "data": {
            "text/plain": [
              "False"
            ]
          },
          "metadata": {
            "tags": []
          },
          "execution_count": 70
        }
      ]
    },
    {
      "cell_type": "markdown",
      "metadata": {
        "id": "r78s1pChsRFe"
      },
      "source": [
        "Comparisons can also be chained in the mathematically obvious way. The following will work as expected in Python (but not in other languages like C/C++):\n",
        "En python a diferencia de otros lenguajes puedes juntar algunos operadores lógicos como se hace en matemáticas (Esto no es cierto para todos los lenguajes como C++ etc...)."
      ]
    },
    {
      "cell_type": "code",
      "metadata": {
        "id": "cpU3TbUUsRFf",
        "outputId": "3aa327a7-b5bf-4a54-9c2b-528ee1be4959"
      },
      "source": [
        "0.5 < z <= 1"
      ],
      "execution_count": null,
      "outputs": [
        {
          "output_type": "execute_result",
          "data": {
            "text/plain": [
              "False"
            ]
          },
          "metadata": {
            "tags": []
          },
          "execution_count": 71
        }
      ]
    },
    {
      "cell_type": "code",
      "metadata": {
        "id": "U3xIk-e-sRFg",
        "outputId": "49f67451-0794-4087-f96c-cffcbf6d44bc"
      },
      "source": [
        "1 < z < 3"
      ],
      "execution_count": null,
      "outputs": [
        {
          "output_type": "execute_result",
          "data": {
            "text/plain": [
              "True"
            ]
          },
          "metadata": {
            "tags": []
          },
          "execution_count": 72
        }
      ]
    },
    {
      "cell_type": "markdown",
      "metadata": {
        "id": "OZdAj-OXsRFg"
      },
      "source": [
        "### Algebra de Booleanos"
      ]
    },
    {
      "cell_type": "markdown",
      "metadata": {
        "id": "dCsSCLO7sRFg"
      },
      "source": [
        "|Operator|Significado | \\| | Simbolo | Acción |\n",
        "|----|--- | - |----|---|\n",
        "|`and`| and lógico | \\| | &  | a y b |\n",
        "|`or` | or lógico | \\| | $\\mid$  | a o b |\n",
        "|`not` | Not lógico | \\| | ~  | da vuelta lo anterior (no a) |"
      ]
    },
    {
      "cell_type": "code",
      "metadata": {
        "id": "ZjQw18a_sRFh",
        "outputId": "5e145171-50d3-4a03-8f8f-64cf7007ff63"
      },
      "source": [
        "a = \"Peras\" #binary: 10\n",
        "b = \"Manzanas\" #binary: 11\n",
        "a == \"Peras\" and b == \"Manzanas\""
      ],
      "execution_count": null,
      "outputs": [
        {
          "output_type": "execute_result",
          "data": {
            "text/plain": [
              "True"
            ]
          },
          "metadata": {
            "tags": []
          },
          "execution_count": 73
        }
      ]
    },
    {
      "cell_type": "code",
      "metadata": {
        "id": "-qvnBWmjsRFh",
        "outputId": "21f51204-4d8b-4c50-829f-69a2b9238591"
      },
      "source": [
        "a == \"Peras\" or b == \"Plátanos\""
      ],
      "execution_count": null,
      "outputs": [
        {
          "output_type": "execute_result",
          "data": {
            "text/plain": [
              "True"
            ]
          },
          "metadata": {
            "tags": []
          },
          "execution_count": 74
        }
      ]
    },
    {
      "cell_type": "code",
      "metadata": {
        "id": "wUNLfAdgsRFh",
        "outputId": "46dea4be-dca8-4a3f-f78c-740fbd84a376"
      },
      "source": [
        "a == \"Sandía\" or b == \"Sandía\""
      ],
      "execution_count": null,
      "outputs": [
        {
          "output_type": "execute_result",
          "data": {
            "text/plain": [
              "False"
            ]
          },
          "metadata": {
            "tags": []
          },
          "execution_count": 75
        }
      ]
    },
    {
      "cell_type": "code",
      "metadata": {
        "id": "iNUmJ3ahsRFh",
        "outputId": "98b600b4-484d-454a-c626-78b107005ef0"
      },
      "source": [
        "not(a == \"Sandía\" or b == \"Sandía\")"
      ],
      "execution_count": null,
      "outputs": [
        {
          "output_type": "execute_result",
          "data": {
            "text/plain": [
              "True"
            ]
          },
          "metadata": {
            "tags": []
          },
          "execution_count": 76
        }
      ]
    },
    {
      "cell_type": "markdown",
      "metadata": {
        "id": "d7hWivRPsRFi"
      },
      "source": [
        "### Operadores de Asignación de variables\n",
        "\n",
        "En python podemos usar 2 tipos de sintaxis para asignar variables, el `=` para asignar algo, y el `+=` para sumar y asignar como hemos visto anteriormente."
      ]
    },
    {
      "cell_type": "code",
      "metadata": {
        "id": "nWaHOu9PsRFi",
        "outputId": "e41255e4-24f2-4de9-ce15-b577698d1ac6"
      },
      "source": [
        "x = 1\n",
        "print(\"x vale:\", x)\n",
        "x += 2 # add 2 to x\n",
        "print(\"x vale:\", x)\n",
        "x *= 2 # también se pueden usar otros operadores con el =\n",
        "print(\"x vale:\", x)\n",
        "x -= 6\n",
        "print(\"x vale:\", x)"
      ],
      "execution_count": null,
      "outputs": [
        {
          "output_type": "stream",
          "text": [
            "x vale: 1\n",
            "x vale: 3\n",
            "x vale: 6\n",
            "x vale: 0\n"
          ],
          "name": "stdout"
        }
      ]
    },
    {
      "cell_type": "markdown",
      "metadata": {
        "id": "tYJMZVSdsRFi"
      },
      "source": [
        "# Funciones Built-In"
      ]
    },
    {
      "cell_type": "markdown",
      "metadata": {
        "id": "SNZUEgdGsRFi"
      },
      "source": [
        "Python viene desde que lo instalas con muchas funciones incluidas, ya hemos visto varias de ellas por ejemplo `print()`, `int()`, `str()` etc... . Además python incluye otros tipos de operaciones los cuales son accesibles luego de **importar** la librería **math**, la cual permite hacer operaciones como senos, cosenos, raices cuadradas, entre otras. <br>\n",
        "Una librería (en palabras muy simples) es un conjunto de funciones que puedes traer a tu programa en caso de que las necesites."
      ]
    },
    {
      "cell_type": "markdown",
      "metadata": {
        "id": "EDxlgts4sRFi"
      },
      "source": [
        "## Operaciones Matemáticas con ***math***\n",
        "\n",
        "En primer lugar si quieres usar operaciones debes importar math al principio del archivo/notebook, pues si tratas de usar las funciones matemáticas sin importar la librería te arrojará error. <br>\n",
        "Para importar cualquier librería usamos **import** en este caso **import math**"
      ]
    },
    {
      "cell_type": "code",
      "metadata": {
        "id": "WDt-C5DAsRFj",
        "outputId": "e293edce-abc6-40cd-9040-b2cb1756f2cb"
      },
      "source": [
        "# Si no importamos math nos arroja un error\n",
        "math.sqrt(10) "
      ],
      "execution_count": null,
      "outputs": [
        {
          "output_type": "execute_result",
          "data": {
            "text/plain": [
              "3.1622776601683795"
            ]
          },
          "metadata": {
            "tags": []
          },
          "execution_count": 78
        }
      ]
    },
    {
      "cell_type": "code",
      "metadata": {
        "id": "fmwmYy-msRFj",
        "outputId": "b12cb8c9-ea70-429d-c4a2-70a62f97b10f"
      },
      "source": [
        "# Importamos la librería\n",
        "import math\n",
        "# Usamos la operación de la forma math.operacion\n",
        "math.sqrt(10)"
      ],
      "execution_count": null,
      "outputs": [
        {
          "output_type": "execute_result",
          "data": {
            "text/plain": [
              "3.1622776601683795"
            ]
          },
          "metadata": {
            "tags": []
          },
          "execution_count": 79
        }
      ]
    },
    {
      "cell_type": "code",
      "metadata": {
        "id": "7e01ANC1sRFj",
        "outputId": "67f3b0c5-cff6-4017-cc33-b481ef4aa741"
      },
      "source": [
        "print(math.cos(45))\n",
        "print(math.factorial(5))\n",
        "print(math.pi)"
      ],
      "execution_count": null,
      "outputs": [
        {
          "output_type": "stream",
          "text": [
            "0.5253219888177297\n",
            "120\n",
            "3.141592653589793\n"
          ],
          "name": "stdout"
        }
      ]
    },
    {
      "cell_type": "markdown",
      "metadata": {
        "id": "4SPm1IU-sRFj"
      },
      "source": [
        "Para mas información sobre todas las operaciónes que incluye la librería math puedes ir al siguiente link:\n",
        "    https://www.w3schools.com/python/module_math.asp"
      ]
    },
    {
      "cell_type": "markdown",
      "metadata": {
        "id": "696E9hkesRFj"
      },
      "source": [
        "## Operaciones de simplificación"
      ]
    },
    {
      "cell_type": "markdown",
      "metadata": {
        "id": "UlH0aGY6sRFj"
      },
      "source": [
        "`round( )` redondea un número al entero mas cercano. <br>\n",
        "`math.floor()` redondea por abajo. *(Puedes recordarlo por la palabra piso)*<br>\n",
        "`math.ceil()` redondea por arriba. *(Puedes recordarlo por la palabra cielo)* <br>"
      ]
    },
    {
      "cell_type": "code",
      "metadata": {
        "scrolled": false,
        "id": "w1o26UrjsRFk",
        "outputId": "93fe88e0-f948-4af2-cf44-a50d5b109966"
      },
      "source": [
        "print( round(5.6231) )\n",
        "print( round(4.55892, 2) ) # Si le pasas otro número puede redondear a la decima, centesima, etc...\n",
        "print( round(4.55892, 1) )"
      ],
      "execution_count": null,
      "outputs": [
        {
          "output_type": "stream",
          "text": [
            "6\n",
            "4.56\n",
            "4.6\n"
          ],
          "name": "stdout"
        }
      ]
    },
    {
      "cell_type": "code",
      "metadata": {
        "id": "PvjPCWQ3sRFk",
        "outputId": "6d116223-c7fa-43f4-d5f3-89c006b3ef1f"
      },
      "source": [
        "print(math.floor(4.8))\n",
        "print(math.ceil(4.8))"
      ],
      "execution_count": null,
      "outputs": [
        {
          "output_type": "stream",
          "text": [
            "4\n",
            "5\n"
          ],
          "name": "stdout"
        }
      ]
    },
    {
      "cell_type": "markdown",
      "metadata": {
        "id": "0Lkj25cjsRFk"
      },
      "source": [
        "`abs( )` da el valor absoluto de un número."
      ]
    },
    {
      "cell_type": "code",
      "metadata": {
        "id": "2IqRfEA4sRFk",
        "outputId": "63c97173-1f47-4656-efdf-12a92b772b7c"
      },
      "source": [
        "print(abs(-4.5))\n",
        "print(abs(-10))"
      ],
      "execution_count": null,
      "outputs": [
        {
          "output_type": "stream",
          "text": [
            "4.5\n",
            "10\n"
          ],
          "name": "stdout"
        }
      ]
    },
    {
      "cell_type": "markdown",
      "metadata": {
        "id": "T8H3EjODsRFk"
      },
      "source": [
        "## Aceptando entradas de usuario"
      ]
    },
    {
      "cell_type": "markdown",
      "metadata": {
        "id": "6r6tOOOtsRFl"
      },
      "source": [
        "Al igual que como hemos visto anteriormente, existen entradas de usuario y salidas de consola. <br>\n",
        "Para las entradas de usuario usamos `input()` el cual deja que el usuario ingrese *algo*, dicho *algo* siempre entra al programa como un string.<br>\n",
        "Por otro lado si queremos mostrar algo en consola o en este caso en el *output* usamos `print()`"
      ]
    },
    {
      "cell_type": "code",
      "metadata": {
        "id": "3aIrd9YYsRFl",
        "outputId": "057da2e5-1881-4eb7-ba1f-f1af044cf56d"
      },
      "source": [
        "a = input()\n",
        "print(a)"
      ],
      "execution_count": null,
      "outputs": [
        {
          "output_type": "stream",
          "text": [
            "\n",
            "\n"
          ],
          "name": "stdout"
        }
      ]
    },
    {
      "cell_type": "code",
      "metadata": {
        "id": "7cs0sbdVsRFl",
        "outputId": "d206e40e-f6b9-40f6-9835-74f40bc43199"
      },
      "source": [
        "b = input(\"Ingresa un número: \")\n",
        "c = input(\"Ingresa otro número: \")\n",
        "print(b + c) # Notar que no hemos convertido los strings a número por lo que se concatenan."
      ],
      "execution_count": null,
      "outputs": [
        {
          "output_type": "stream",
          "text": [
            "Ingresa un número: 50\n",
            "Ingresa otro número: 50\n",
            "5050\n"
          ],
          "name": "stdout"
        }
      ]
    },
    {
      "cell_type": "code",
      "metadata": {
        "id": "O7wc8hklsRFl",
        "outputId": "56487ada-c945-4866-98ca-065a588045bb"
      },
      "source": [
        "# Si queremos que se sumen los numeros usamos los conversores de tipos de datos aprendidos anteriormente\n",
        "b = float(input(\"Ingresa un número: \"))\n",
        "c = float(input(\"Ingresa otro número: \"))\n",
        "print(b + c)"
      ],
      "execution_count": null,
      "outputs": [
        {
          "output_type": "stream",
          "text": [
            "Ingresa un número: 50\n",
            "Ingresa otro número: 50\n",
            "100.0\n"
          ],
          "name": "stdout"
        }
      ]
    },
    {
      "cell_type": "markdown",
      "metadata": {
        "id": "e-ydY7vzsjY1"
      },
      "source": [
        "## Listo! Eso es todo por hoy, ahora intenta resolver la guía de ejercicios!\n",
        "Recuerda que la guía de ejercicios es un notebook separado y para guardar tus avances debes guardarla en tu propio computador o drive."
      ]
    },
    {
      "cell_type": "code",
      "metadata": {
        "id": "md-AxdCrsqh_"
      },
      "source": [
        ""
      ],
      "execution_count": null,
      "outputs": []
    }
  ]
}