{
  "nbformat": 4,
  "nbformat_minor": 0,
  "metadata": {
    "kernelspec": {
      "display_name": "Python 3",
      "language": "python",
      "name": "python3"
    },
    "language_info": {
      "codemirror_mode": {
        "name": "ipython",
        "version": 3
      },
      "file_extension": ".py",
      "mimetype": "text/x-python",
      "name": "python",
      "nbconvert_exporter": "python",
      "pygments_lexer": "ipython3",
      "version": "3.7.8"
    },
    "colab": {
      "name": "01 - Ejercicios.ipynb",
      "provenance": []
    }
  },
  "cells": [
    {
      "cell_type": "markdown",
      "metadata": {
        "id": "ymnKk6t13sY-"
      },
      "source": [
        "# Ejercicios 01"
      ]
    },
    {
      "cell_type": "markdown",
      "metadata": {
        "id": "DQmuioSJ3sY_"
      },
      "source": [
        "A continuación se muestran los ejercicios de la guía 01, a continuación verás varios enunciados, que debes responder programando codigo en las celdas de codigo correspondiente."
      ]
    },
    {
      "cell_type": "markdown",
      "metadata": {
        "id": "rgmL-IHO3sY_"
      },
      "source": [
        "## 1. El culpable del Covid"
      ]
    },
    {
      "cell_type": "markdown",
      "metadata": {
        "id": "Shlf3UOR3sY_"
      },
      "source": [
        "Estamos en una gran pandemia, y todos le quieren hechar la culpa a alguien por haber traido el Covid, algunos dicen que fue un murcielago, otros dicen que fue un chino, otros dicen que fue un arma química de EEUU. <br>\n",
        "A continuación se muestra un string inicial, tu misión es concatenarlo con algúna persona que creas que sea el culpable del covid y lo muestres en la salida del programa.<br>\n",
        "Ejemplo:<br>\n",
        "     **El culpable del covid es el come murciélagos** <br>\n",
        "     **El culpable del covid es el profesor Domingo**"
      ]
    },
    {
      "cell_type": "code",
      "metadata": {
        "id": "_-Ca0JTa3sZA"
      },
      "source": [
        "a = \"El culpable del Covid es \"\n",
        "# Ingresa tu codigo bajo este comentario"
      ],
      "execution_count": null,
      "outputs": []
    },
    {
      "cell_type": "markdown",
      "metadata": {
        "id": "dPDwVrEE3sZA"
      },
      "source": [
        "Sabemos que no le podemos hechar simplemente la culpa a alguien sino que le debemos dar una razón, concatena los strings anteriores con uno nuevo para dar la razon de porque **x** es el culpable del covid. <br>\n",
        "Ejemplo: <br>\n",
        "**El culpable del covid es el come murcélagos porque estás pasados a virus los murciélagos**"
      ]
    },
    {
      "cell_type": "code",
      "metadata": {
        "id": "H7AiUqYt3sZA"
      },
      "source": [
        ""
      ],
      "execution_count": null,
      "outputs": []
    },
    {
      "cell_type": "markdown",
      "metadata": {
        "id": "-idEz2bQ3sZB"
      },
      "source": [
        "## 2. El granjero Jorge\n",
        "Jorge es un granjero esforzado y trabajador, pero lamentablemente es extremadamente malo para las matemáticas, aquello le genera que siempre tenga problemas para contar los m^2 que tiene su campo y siempre compra mal las semillas. <br>\n",
        "Realize un programa que tome como entrada de usuario el ancho y largo del campo (en m), calcule el área del campo (en m^2) y lo muestre en la consola (Output)."
      ]
    },
    {
      "cell_type": "code",
      "metadata": {
        "id": "Wo-4zzsm3sZB"
      },
      "source": [
        "# Ingresa tu codigo bajo este comentario"
      ],
      "execution_count": null,
      "outputs": []
    },
    {
      "cell_type": "markdown",
      "metadata": {
        "id": "b-cGpYdy3sZC"
      },
      "source": [
        "Ya que tienes calculado el area del campo, calcula un programa que calcule la cantidad de semillas que debe usar jorge usando la variable `CANTIDAD_DE_SEMILLAS_POR_M2` declarada en el bloque a continuacion."
      ]
    },
    {
      "cell_type": "code",
      "metadata": {
        "id": "OM2H4qzl3sZC"
      },
      "source": [
        "CANTIDAD_DE_SEMILLAS_POR_M2 = 276\n",
        "# Ingresa tu codigo bajo este comentario"
      ],
      "execution_count": null,
      "outputs": []
    },
    {
      "cell_type": "markdown",
      "metadata": {
        "id": "WmwZMLJo3sZC"
      },
      "source": [
        "Por último sabemos que Jorge como buen granjero no sabe nada de m^2 pues no sabe matemáticas, el solo conoce la palabra hectárea, por lo que, toma el valor de los m^2 calculados anteriormente y muestraselos a Jorge como hectareas en la consola."
      ]
    },
    {
      "cell_type": "code",
      "metadata": {
        "id": "hTPsL6b43sZD"
      },
      "source": [
        "# Ingresa tu codigo bajo este comentario"
      ],
      "execution_count": null,
      "outputs": []
    }
  ]
}