{
 "cells": [
  {
   "cell_type": "markdown",
   "metadata": {},
   "source": [
    "# Ejercicios 01"
   ]
  },
  {
   "cell_type": "markdown",
   "metadata": {},
   "source": [
    "A continuación se muestran los ejercicios de la guía 01, a continuación verás varios enunciados, que debes responder programando codigo en las celdas de codigo correspondiente."
   ]
  },
  {
   "cell_type": "markdown",
   "metadata": {},
   "source": [
    "## 1. El culpable del Covid"
   ]
  },
  {
   "cell_type": "markdown",
   "metadata": {},
   "source": [
    "Estamos en una gran pandemia, y todos le quieren hechar la culpa a alguien por haber traido el Covid, algunos dicen que fue un murcielago, otros dicen que fue un chino, otros dicen que fue un arma química de EEUU. <br>\n",
    "A continuación se muestra un string inicial, tu misión es concatenarlo con algúna persona que creas que sea el culpable del covid y lo muestres en la salida del programa.<br>\n",
    "Ejemplo:<br>\n",
    "     **El culpable del covid es el come murciélagos** <br>\n",
    "     **El culpable del covid es el profesor**"
   ]
  },
  {
   "cell_type": "code",
   "execution_count": 13,
   "metadata": {},
   "outputs": [],
   "source": [
    "a = \"El culpable del Covid es \"\n",
    "# Ingresa tu codigo bajo este comentario"
   ]
  },
  {
   "cell_type": "markdown",
   "metadata": {},
   "source": [
    "Sabemos que no le podemos hechar simplemente la culpa a alguien sino que le debemos dar una razón, concatena los strings anteriores con uno nuevo para dar la razon de porque **x** es el culpable del covid. <br>\n",
    "Ejemplo: <br>\n",
    "**El culpable del covid es el come murcélagos porque estás pasados a virus los murciélagos**"
   ]
  },
  {
   "cell_type": "code",
   "execution_count": null,
   "metadata": {},
   "outputs": [],
   "source": []
  },
  {
   "cell_type": "markdown",
   "metadata": {},
   "source": [
    "## 2. El granjero Jorge\n",
    "Jorge es un granjero esforzado y trabajador, pero lamentablemente es extremadamente malo para las matemáticas, aquello le genera que siempre tenga problemas para contar los m^2 que tiene su campo y siempre compra mal las semillas. <br>\n",
    "Realize un programa que tome como entrada de usuario el ancho y largo del campo (en m), calcule el área del campo (en m^2) y lo muestre en la consola (Output)."
   ]
  },
  {
   "cell_type": "code",
   "execution_count": 8,
   "metadata": {},
   "outputs": [],
   "source": [
    "# Ingresa tu codigo bajo este comentario"
   ]
  },
  {
   "cell_type": "markdown",
   "metadata": {},
   "source": [
    "Ya que tienes calculado el area del campo, calcula un programa que calcule la cantidad de semillas que debe usar jorge usando la variable `CANTIDAD_DE_SEMILLAS_POR_M2` declarada en el bloque a continuacion."
   ]
  },
  {
   "cell_type": "code",
   "execution_count": 9,
   "metadata": {},
   "outputs": [],
   "source": [
    "CANTIDAD_DE_SEMILLAS_POR_M2 = 276\n",
    "# Ingresa tu codigo bajo este comentario"
   ]
  },
  {
   "cell_type": "markdown",
   "metadata": {},
   "source": [
    "Por último sabemos que Jorge como buen granjero no sabe nada de m^2 pues no sabe matemáticas, el solo conoce la palabra hectárea, por lo que, toma el valor de los m^2 calculados anteriormente y muestraselos a Jorge como hectareas en la consola."
   ]
  },
  {
   "cell_type": "code",
   "execution_count": 4,
   "metadata": {},
   "outputs": [],
   "source": [
    "# Ingresa tu codigo bajo este comentario"
   ]
  }
 ],
 "metadata": {
  "kernelspec": {
   "display_name": "Python 3",
   "language": "python",
   "name": "python3"
  },
  "language_info": {
   "codemirror_mode": {
    "name": "ipython",
    "version": 3
   },
   "file_extension": ".py",
   "mimetype": "text/x-python",
   "name": "python",
   "nbconvert_exporter": "python",
   "pygments_lexer": "ipython3",
   "version": "3.7.8"
  }
 },
 "nbformat": 4,
 "nbformat_minor": 4
}
